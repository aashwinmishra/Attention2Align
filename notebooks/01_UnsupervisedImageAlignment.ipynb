{
  "nbformat": 4,
  "nbformat_minor": 0,
  "metadata": {
    "colab": {
      "provenance": [],
      "authorship_tag": "ABX9TyN5I+S0wzjnQ9df1YFdmMA2"
    },
    "kernelspec": {
      "name": "python3",
      "display_name": "Python 3"
    },
    "language_info": {
      "name": "python"
    }
  },
  "cells": [
    {
      "cell_type": "code",
      "execution_count": 1,
      "metadata": {
        "id": "IWpQH4GPZL16"
      },
      "outputs": [],
      "source": [
        "import numpy as np\n",
        "import matplotlib.pyplot as plt\n",
        "\n",
        "import torch\n",
        "import torch.nn as nn\n",
        "import torchvision.transforms.functional as TF\n",
        "from torch.utils.data import Dataset, TensorDataset, DataLoader, random_split"
      ]
    },
    {
      "cell_type": "code",
      "source": [
        "x = torch.tensor([[1], [2], [3]])\n",
        "print(x.shape)\n",
        "x = x.expand(3, 5)\n",
        "print(x.shape)"
      ],
      "metadata": {
        "colab": {
          "base_uri": "https://localhost:8080/"
        },
        "id": "wNOrxjIgEU7L",
        "outputId": "b5a714a2-1e94-4cf2-cbd3-e077e84676de"
      },
      "execution_count": 10,
      "outputs": [
        {
          "output_type": "stream",
          "name": "stdout",
          "text": [
            "torch.Size([3, 1])\n",
            "torch.Size([3, 5])\n"
          ]
        }
      ]
    },
    {
      "cell_type": "code",
      "source": [
        "def meshgrid(height, width):\n",
        "  \"\"\"\n",
        "  Returns a uniform grid ranging from [0, H-1] and [0, W-1].\n",
        "  \"\"\"\n",
        "  xt = torch.ones((height, 1)) @ torch.linspace(0.0, width - 1.0, width).unsqueeze(-1).transpose(1, 0)\n",
        "  yt = torch.linspace(0.0, height - 1.0, height).unsqueeze(1) @ torch.ones((1, width))\n",
        "\n",
        "  return xt, yt"
      ],
      "metadata": {
        "id": "p1Bje_0TCWAd"
      },
      "execution_count": 23,
      "outputs": []
    },
    {
      "cell_type": "code",
      "source": [
        "def repeat(x, num_repeats):\n",
        "  repeats = torch.ones(num_repeats).unsqueeze(-1).transpose(1, 0)\n",
        "  x = torch.reshape(x, (-1, 1)) @ repeats\n",
        "  return torch.reshape(x, (-1, 1)).squeeze()"
      ],
      "metadata": {
        "id": "IHFb8v5nFBAT"
      },
      "execution_count": 25,
      "outputs": []
    },
    {
      "cell_type": "code",
      "source": [
        "def interpolate(im, x, y):\n",
        "  im = torch.nn.functional.pad(im, (0, 0, 1, 1, 1, 1, 0, 0))\n",
        "  batch_size, height, width, channels = im.shape\n",
        "  batch_size, out_height, out_width = x.shape\n",
        "  x, y = x.reshape(-1, 1) + 1.0, y.reshape(-1, 1) + 1.0\n",
        "\n",
        "  x0 = torch.floor(x)\n",
        "  x1 = x0 + 1\n",
        "  y0 = torch.floor(y)\n",
        "  y1 = y0 + 1\n",
        "\n",
        "  x0 = torch.clamp(x0, 0, width - 1)\n",
        "  x1 = torch.clamp(x1, 0, width - 1)\n",
        "  y0 = torch.clamp(y0, 0, height - 1)\n",
        "  y1 = torch.clamp(y1, 0, height - 1)\n",
        "\n",
        "  dim2 = width\n",
        "  dim1 = width*height\n",
        "  base = repeat(torch.arange(0, batch_size)*dim1, out_height*out_width)\n",
        "  base_y0 = base + y0*dim2\n",
        "  base_y1 = base + y1*dim2\n",
        "\n",
        "  idx_a = base_y0 + x0\n",
        "  idx_b = base_y1 + x0\n",
        "  idx_c = base_y0 + x1\n",
        "  idx_d = base_y1 + x1\n",
        "\n",
        "  im_flat = torch.reshape(im, [-1, channels])\n",
        "  im_flat = im_flat.float()\n",
        "  dim, _ = idx_a.transpose(1,0).shape\n",
        "  Ia = torch.gather(im_flat, 0, idx_a.transpose(1,0).expand(dim, channels))\n",
        "  Ib = torch.gather(im_flat, 0, idx_b.transpose(1,0).expand(dim, channels))\n",
        "  Ic = torch.gather(im_flat, 0, idx_c.transpose(1,0).expand(dim, channels))\n",
        "  Id = torch.gather(im_flat, 0, idx_d.transpose(1,0).expand(dim, channels))\n",
        "\n",
        "  x1_f = x1.float()\n",
        "  y1_f = y1.float()\n",
        "  dx = x1_f - x\n",
        "  dy = y1_f - y\n",
        "\n",
        "  wa = (dx * dy).transpose(1,0)\n",
        "  wb = (dx * (1-dy)).transpose(1,0)\n",
        "  wc = ((1-dx) * dy).transpose(1,0)\n",
        "  wd = ((1-dx) * (1-dy)).transpose(1,0)\n",
        "\n",
        "  output = torch.sum(torch.squeeze(torch.stack([wa*Ia, wb*Ib, wc*Ic, wd*Id], dim=1)), 1)\n",
        "  output = torch.reshape(output, [-1, out_height, out_width, channels])\n",
        "  return output"
      ],
      "metadata": {
        "id": "9Lxs_U1mPWAu"
      },
      "execution_count": 27,
      "outputs": []
    },
    {
      "cell_type": "code",
      "source": [
        "class DoubleConv(nn.Module):\n",
        "  def __init__(self, in_channels, out_channels):\n",
        "    super().__init__()\n",
        "    self.conv = nn.Sequential(\n",
        "        nn.Conv2d(in_channels, out_channels, 3, 1, 1, bias=False),\n",
        "        nn.BatchNorm2d(out_channels),\n",
        "        nn.ReLU(inplace=True),\n",
        "        nn.Conv2d(out_channels, out_channels, 3, 1, 1, bias=False),\n",
        "        nn.BatchNorm2d(out_channels),\n",
        "        nn.ReLU(inplace=True),\n",
        "    )\n",
        "\n",
        "  def forward(self, x):\n",
        "    return self.conv(x)"
      ],
      "metadata": {
        "id": "U8T-6ou3ZU4O"
      },
      "execution_count": null,
      "outputs": []
    },
    {
      "cell_type": "code",
      "source": [
        "class UNet(nn.Module):\n",
        "  def __init__(self, in_channels: int=1, out_channels: int=1, features: list=[64, 128, 256, 512]):\n",
        "    super().__init__()\n",
        "    self.ups = nn.ModuleList()\n",
        "    self.downs = nn.ModuleList()\n",
        "    self.pool = nn.MaxPool2d(2, 2)\n",
        "\n",
        "    for feature in features:\n",
        "      self.downs.append(DoubleConv(in_channels, feature))\n",
        "      in_channels = feature\n",
        "\n",
        "    self.bottleneck = DoubleConv(feature, 2*features)\n",
        "\n",
        "    for feature in reversed(features):\n",
        "      self.ups.append(nn.ConvTranspose2d(2*feature, feature, kernel_size=2, stride=2))\n",
        "      self.ups.append(DoubleConv(2*feature, feature))\n",
        "\n",
        "    self.final_conv = nn.Conv2d(features[0], out_channels, kernel_size=1)\n",
        "\n",
        "  def forward(self, x):\n",
        "    skip_connections = []\n",
        "\n",
        "    for down in self.downs:\n",
        "      x = down(x)\n",
        "      skip_connections.append(x)\n",
        "      x = self.pool(x)\n",
        "\n",
        "    x = self.bottleneck(x)\n",
        "\n",
        "    skip_connections = skip_connections[:,:,-1]\n",
        "    for idx in range(0, len(self.ups), 2):\n",
        "      x = self.ups[idx]\n",
        "      x = torch.cat([skip_connections[idx//2], x], dim=1)\n",
        "      x = self.ups[idx+1]\n",
        "\n",
        "    return self.final_conv(x)"
      ],
      "metadata": {
        "id": "pE8cAPHnnnw_"
      },
      "execution_count": null,
      "outputs": []
    },
    {
      "cell_type": "code",
      "source": [],
      "metadata": {
        "id": "cvWXu4Gy2ogr"
      },
      "execution_count": null,
      "outputs": []
    }
  ]
}