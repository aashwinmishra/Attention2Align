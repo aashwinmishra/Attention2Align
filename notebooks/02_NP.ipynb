{
  "nbformat": 4,
  "nbformat_minor": 0,
  "metadata": {
    "colab": {
      "provenance": [],
      "authorship_tag": "ABX9TyNZteQnJtq/3ufKLq9aXmrc"
    },
    "kernelspec": {
      "name": "python3",
      "display_name": "Python 3"
    },
    "language_info": {
      "name": "python"
    }
  },
  "cells": [
    {
      "cell_type": "code",
      "execution_count": null,
      "metadata": {
        "id": "nle6t1JPGi6g"
      },
      "outputs": [],
      "source": [
        "import numpy as np\n",
        "import matplotlib.pyplot as plt"
      ]
    },
    {
      "cell_type": "code",
      "source": [
        "generator = np.random.default_rng(999)\n",
        "schedules = generator.integers(low=0, high=5, size=(1000, 21))\n",
        "\n",
        "print(schedules)"
      ],
      "metadata": {
        "colab": {
          "base_uri": "https://localhost:8080/"
        },
        "id": "cMp99mYY7JMK",
        "outputId": "be88aed1-4a0a-43ae-e3ac-8cb2718f03fd"
      },
      "execution_count": null,
      "outputs": [
        {
          "output_type": "stream",
          "name": "stdout",
          "text": [
            "[[4 3 0 ... 2 0 0]\n",
            " [2 4 3 ... 3 3 2]\n",
            " [1 0 1 ... 1 2 1]\n",
            " ...\n",
            " [2 2 1 ... 3 1 4]\n",
            " [1 0 3 ... 2 3 2]\n",
            " [1 1 4 ... 2 4 2]]\n"
          ]
        }
      ]
    },
    {
      "cell_type": "code",
      "source": [
        "S1 = schedules[:, 1:]\n",
        "S2 = schedules[:, :-1]\n",
        "diff = S1 - S2\n",
        "diff[0]"
      ],
      "metadata": {
        "colab": {
          "base_uri": "https://localhost:8080/"
        },
        "id": "_9dKVe--7JTk",
        "outputId": "b1766c12-a85b-4bc9-d509-5eb64cd6b279"
      },
      "execution_count": null,
      "outputs": [
        {
          "output_type": "execute_result",
          "data": {
            "text/plain": [
              "array([-1, -3,  0,  0,  3, -3,  3, -3,  0,  0,  4, -4,  0,  4, -1, -1,  2,\n",
              "       -2, -2,  0])"
            ]
          },
          "metadata": {},
          "execution_count": 28
        }
      ]
    },
    {
      "cell_type": "code",
      "source": [
        "idxs = np.argwhere(np.all(diff != 0, axis=-1) == True)\n",
        "idxs"
      ],
      "metadata": {
        "colab": {
          "base_uri": "https://localhost:8080/"
        },
        "id": "kLrz2-Ni7JeR",
        "outputId": "b7d5266d-1215-4f30-abc1-ef7c828a2296"
      },
      "execution_count": null,
      "outputs": [
        {
          "output_type": "execute_result",
          "data": {
            "text/plain": [
              "array([[ 25],\n",
              "       [138],\n",
              "       [188],\n",
              "       [289],\n",
              "       [375],\n",
              "       [426],\n",
              "       [533],\n",
              "       [886],\n",
              "       [975],\n",
              "       [982]])"
            ]
          },
          "metadata": {},
          "execution_count": 35
        }
      ]
    },
    {
      "cell_type": "code",
      "source": [
        "locs = np.array([\n",
        "    [0,0,0],\n",
        "    [1,1,2],\n",
        "    [0,0,0],\n",
        "    [2,1,3],\n",
        "    [5,5,4],\n",
        "    [5,0,0],\n",
        "    [5,0,0],\n",
        "    [0,0,0],\n",
        "    [2,1,3],\n",
        "    [1,3,1]\n",
        "])\n",
        "\n",
        "generator = np.random.default_rng(1010)\n",
        "weights = generator.normal(size=10)\n",
        "\n",
        "print(weights)"
      ],
      "metadata": {
        "colab": {
          "base_uri": "https://localhost:8080/"
        },
        "id": "g261md6svHk7",
        "outputId": "d615a734-75d0-4c16-c3ca-2a4979f65916"
      },
      "execution_count": null,
      "outputs": [
        {
          "output_type": "stream",
          "name": "stdout",
          "text": [
            "[-1.69870017  0.53799701 -0.22561399 -1.09020894  0.55391264 -1.50115445\n",
            "  0.44545933  1.3448172  -1.12364327  0.21216015]\n"
          ]
        }
      ]
    },
    {
      "cell_type": "code",
      "source": [
        "unique_positions, commons = np.unique(locs, return_inverse=True, axis=0)\n",
        "print(commons)"
      ],
      "metadata": {
        "colab": {
          "base_uri": "https://localhost:8080/"
        },
        "id": "a_vzn1qWvHwJ",
        "outputId": "05188a39-b2e3-44bb-bda6-88fe4c8fb221"
      },
      "execution_count": null,
      "outputs": [
        {
          "output_type": "stream",
          "name": "stdout",
          "text": [
            "[0 1 0 3 5 4 4 0 3 2]\n"
          ]
        }
      ]
    },
    {
      "cell_type": "code",
      "source": [
        "one_hot = np.eye(max(commons)+1)[commons]\n",
        "one_hot_weights = weights[:, None] * one_hot\n",
        "remaining_fish_weights = np.max(np.abs(one_hot_weights), axis=0)\n",
        "print(one_hot)\n",
        "print(one_hot_weights)\n",
        "print(remaining_fish_weights)\n",
        "np.sum(np.abs(weights)[:, None] == remaining_fish_weights, axis=-1)"
      ],
      "metadata": {
        "colab": {
          "base_uri": "https://localhost:8080/"
        },
        "id": "LwiZ-FxOwsdl",
        "outputId": "699b68cc-21e2-4e43-bc96-fcefb1ceb13c"
      },
      "execution_count": null,
      "outputs": [
        {
          "output_type": "stream",
          "name": "stdout",
          "text": [
            "[[1. 0. 0. 0. 0. 0.]\n",
            " [0. 1. 0. 0. 0. 0.]\n",
            " [1. 0. 0. 0. 0. 0.]\n",
            " [0. 0. 0. 1. 0. 0.]\n",
            " [0. 0. 0. 0. 0. 1.]\n",
            " [0. 0. 0. 0. 1. 0.]\n",
            " [0. 0. 0. 0. 1. 0.]\n",
            " [1. 0. 0. 0. 0. 0.]\n",
            " [0. 0. 0. 1. 0. 0.]\n",
            " [0. 0. 1. 0. 0. 0.]]\n",
            "[[-1.69870017 -0.         -0.         -0.         -0.         -0.        ]\n",
            " [ 0.          0.53799701  0.          0.          0.          0.        ]\n",
            " [-0.22561399 -0.         -0.         -0.         -0.         -0.        ]\n",
            " [-0.         -0.         -0.         -1.09020894 -0.         -0.        ]\n",
            " [ 0.          0.          0.          0.          0.          0.55391264]\n",
            " [-0.         -0.         -0.         -0.         -1.50115445 -0.        ]\n",
            " [ 0.          0.          0.          0.          0.44545933  0.        ]\n",
            " [ 1.3448172   0.          0.          0.          0.          0.        ]\n",
            " [-0.         -0.         -0.         -1.12364327 -0.         -0.        ]\n",
            " [ 0.          0.          0.21216015  0.          0.          0.        ]]\n",
            "[1.69870017 0.53799701 0.21216015 1.12364327 1.50115445 0.55391264]\n"
          ]
        },
        {
          "output_type": "execute_result",
          "data": {
            "text/plain": [
              "array([1, 1, 0, 0, 1, 1, 0, 0, 1, 1])"
            ]
          },
          "metadata": {},
          "execution_count": 22
        }
      ]
    },
    {
      "cell_type": "code",
      "source": [
        "generator = np.random.default_rng(123)\n",
        "ratings = np.round(generator.uniform(0, 10, size=(10,2)), 2)\n",
        "ratings[[1,2,7,9], 0] = np.nan\n",
        "print(ratings)"
      ],
      "metadata": {
        "colab": {
          "base_uri": "https://localhost:8080/"
        },
        "id": "dpD6tNdntszd",
        "outputId": "298e32ed-f49e-425f-a898-a01e99f4437f"
      },
      "execution_count": null,
      "outputs": [
        {
          "output_type": "stream",
          "name": "stdout",
          "text": [
            "[[6.82 0.54]\n",
            " [ nan 1.84]\n",
            " [ nan 8.12]\n",
            " [9.23 2.77]\n",
            " [8.2  8.9 ]\n",
            " [5.13 2.45]\n",
            " [8.24 2.14]\n",
            " [ nan 6.3 ]\n",
            " [9.27 2.32]\n",
            " [ nan 5.18]]\n"
          ]
        }
      ]
    },
    {
      "cell_type": "code",
      "source": [
        "out = np.where(np.isnan(ratings[:,0]), ratings[:,1], ratings[:,0])\n",
        "print(out)"
      ],
      "metadata": {
        "colab": {
          "base_uri": "https://localhost:8080/"
        },
        "id": "Eqv9BHyKts6c",
        "outputId": "60b7e3b7-f9e9-428c-fcd2-367dccfe8358"
      },
      "execution_count": null,
      "outputs": [
        {
          "output_type": "stream",
          "name": "stdout",
          "text": [
            "[6.82 1.84 8.12 9.23 8.2  5.13 8.24 6.3  9.27 5.18]\n"
          ]
        }
      ]
    },
    {
      "cell_type": "code",
      "source": [
        "np.arange(3).isnan()"
      ],
      "metadata": {
        "colab": {
          "base_uri": "https://localhost:8080/",
          "height": 144
        },
        "id": "5-7WnjbzttBV",
        "outputId": "fe240d1b-45ab-4e8c-c885-1cd5bd16653d"
      },
      "execution_count": null,
      "outputs": [
        {
          "output_type": "error",
          "ename": "AttributeError",
          "evalue": "'numpy.ndarray' object has no attribute 'isnan'",
          "traceback": [
            "\u001b[0;31m---------------------------------------------------------------------------\u001b[0m",
            "\u001b[0;31mAttributeError\u001b[0m                            Traceback (most recent call last)",
            "\u001b[0;32m<ipython-input-6-149bedfb769c>\u001b[0m in \u001b[0;36m<cell line: 1>\u001b[0;34m()\u001b[0m\n\u001b[0;32m----> 1\u001b[0;31m \u001b[0mnp\u001b[0m\u001b[0;34m.\u001b[0m\u001b[0marange\u001b[0m\u001b[0;34m(\u001b[0m\u001b[0;36m3\u001b[0m\u001b[0;34m)\u001b[0m\u001b[0;34m.\u001b[0m\u001b[0misnan\u001b[0m\u001b[0;34m(\u001b[0m\u001b[0;34m)\u001b[0m\u001b[0;34m\u001b[0m\u001b[0;34m\u001b[0m\u001b[0m\n\u001b[0m",
            "\u001b[0;31mAttributeError\u001b[0m: 'numpy.ndarray' object has no attribute 'isnan'"
          ]
        }
      ]
    },
    {
      "cell_type": "code",
      "source": [],
      "metadata": {
        "id": "E1V6JueuttIj"
      },
      "execution_count": null,
      "outputs": []
    },
    {
      "cell_type": "code",
      "source": [
        "temp = np.random.randn(4,2)\n",
        "temp"
      ],
      "metadata": {
        "colab": {
          "base_uri": "https://localhost:8080/"
        },
        "id": "Ve8ZuYWyesqo",
        "outputId": "c68b998d-848b-4348-e934-e27712c1577d"
      },
      "execution_count": null,
      "outputs": [
        {
          "output_type": "execute_result",
          "data": {
            "text/plain": [
              "array([[ 0.57849295, -0.50669431],\n",
              "       [ 0.22510326,  0.16167233],\n",
              "       [-0.06241073,  1.18872153],\n",
              "       [-0.2911122 ,  0.93793207]])"
            ]
          },
          "metadata": {},
          "execution_count": 7
        }
      ]
    },
    {
      "cell_type": "code",
      "source": [
        "np.any(temp>1, axis=-1)"
      ],
      "metadata": {
        "colab": {
          "base_uri": "https://localhost:8080/"
        },
        "id": "0ya71fHGetds",
        "outputId": "59e35f79-bfaa-4e47-abe4-1ae82fe806e5"
      },
      "execution_count": null,
      "outputs": [
        {
          "output_type": "execute_result",
          "data": {
            "text/plain": [
              "array([False, False,  True, False])"
            ]
          },
          "metadata": {},
          "execution_count": 9
        }
      ]
    },
    {
      "cell_type": "code",
      "source": [
        "np.all(temp < 1, axis=-1)"
      ],
      "metadata": {
        "colab": {
          "base_uri": "https://localhost:8080/"
        },
        "id": "jjqlXM5AetkW",
        "outputId": "3b30338e-474a-4977-8a7e-e09455f5ddf3"
      },
      "execution_count": null,
      "outputs": [
        {
          "output_type": "execute_result",
          "data": {
            "text/plain": [
              "array([ True,  True, False,  True])"
            ]
          },
          "metadata": {},
          "execution_count": 10
        }
      ]
    },
    {
      "cell_type": "code",
      "source": [
        "closest = np.random.choice([0,1,2],  size=10)\n",
        "dists = np.random.rand(10)[:, None] #Just kick this up to (n, 2) dim points!\n",
        "one_hot = np.eye(3)[closest]\n",
        "new_centers = (dists * one_hot).sum(axis=0)\n",
        "print(closest)\n",
        "print(dists)\n",
        "print(one_hot)\n",
        "print(new_centers)"
      ],
      "metadata": {
        "colab": {
          "base_uri": "https://localhost:8080/"
        },
        "id": "GocTRxsaetsw",
        "outputId": "85841481-71d5-419f-c459-7224987c0a87"
      },
      "execution_count": null,
      "outputs": [
        {
          "output_type": "stream",
          "name": "stdout",
          "text": [
            "[0 1 2 0 2 0 2 1 0 0]\n",
            "[[0.49003106]\n",
            " [0.94693865]\n",
            " [0.50668639]\n",
            " [0.93969319]\n",
            " [0.61743745]\n",
            " [0.1642427 ]\n",
            " [0.7086138 ]\n",
            " [0.99215532]\n",
            " [0.72054317]\n",
            " [0.7879176 ]]\n",
            "[[1. 0. 0.]\n",
            " [0. 1. 0.]\n",
            " [0. 0. 1.]\n",
            " [1. 0. 0.]\n",
            " [0. 0. 1.]\n",
            " [1. 0. 0.]\n",
            " [0. 0. 1.]\n",
            " [0. 1. 0.]\n",
            " [1. 0. 0.]\n",
            " [1. 0. 0.]]\n",
            "[3.10242773 1.93909397 1.83273764]\n"
          ]
        }
      ]
    },
    {
      "cell_type": "code",
      "source": [
        "k=3\n",
        "one_hot = np.eye(k)[temp]\n",
        "print(one_hot)"
      ],
      "metadata": {
        "colab": {
          "base_uri": "https://localhost:8080/"
        },
        "id": "khMQFzCvg6k9",
        "outputId": "d48ca1cf-3abb-4ccd-ecc5-61cca4b88325"
      },
      "execution_count": null,
      "outputs": [
        {
          "output_type": "stream",
          "name": "stdout",
          "text": [
            "[[1. 0. 0.]\n",
            " [1. 0. 0.]\n",
            " [1. 0. 0.]\n",
            " [1. 0. 0.]\n",
            " [0. 1. 0.]\n",
            " [0. 1. 0.]\n",
            " [1. 0. 0.]\n",
            " [1. 0. 0.]\n",
            " [0. 1. 0.]\n",
            " [0. 0. 1.]]\n"
          ]
        }
      ]
    },
    {
      "cell_type": "code",
      "source": [
        "x = np.random.uniform(size=(10, 3))\n",
        "c = np.argmin(x, axis=-1)\n",
        "print(x)\n",
        "print(c)"
      ],
      "metadata": {
        "colab": {
          "base_uri": "https://localhost:8080/"
        },
        "id": "cKqWvCT3Y9Fj",
        "outputId": "3eff82d1-ec62-4fd0-eb37-ee71658e2dee"
      },
      "execution_count": null,
      "outputs": [
        {
          "output_type": "stream",
          "name": "stdout",
          "text": [
            "[[0.71954496 0.47363837 0.40973814]\n",
            " [0.97109306 0.17922544 0.62701659]\n",
            " [0.27601068 0.7012623  0.54379222]\n",
            " [0.22576448 0.3615013  0.1194413 ]\n",
            " [0.00232815 0.21757236 0.9335884 ]\n",
            " [0.01538137 0.79942981 0.68500669]\n",
            " [0.9985032  0.57613418 0.22830768]\n",
            " [0.41139631 0.47798357 0.4317264 ]\n",
            " [0.52998597 0.1184142  0.31229205]\n",
            " [0.00181579 0.21517463 0.18926067]]\n",
            "[2 1 0 2 0 0 2 0 1 0]\n"
          ]
        }
      ]
    },
    {
      "cell_type": "code",
      "source": [
        "x[np.arange(10), c]"
      ],
      "metadata": {
        "colab": {
          "base_uri": "https://localhost:8080/"
        },
        "id": "sSXZevgFY9PI",
        "outputId": "b13f4674-e2df-44b4-9fb2-0f6080d9b10f"
      },
      "execution_count": null,
      "outputs": [
        {
          "output_type": "execute_result",
          "data": {
            "text/plain": [
              "array([0.40973814, 0.17922544, 0.27601068, 0.1194413 , 0.00232815,\n",
              "       0.01538137, 0.22830768, 0.41139631, 0.1184142 , 0.00181579])"
            ]
          },
          "metadata": {},
          "execution_count": 42
        }
      ]
    },
    {
      "cell_type": "code",
      "source": [],
      "metadata": {
        "id": "y7UGSsiMY9Ya"
      },
      "execution_count": null,
      "outputs": []
    },
    {
      "cell_type": "code",
      "source": [],
      "metadata": {
        "id": "3KUnPILUY9hM"
      },
      "execution_count": null,
      "outputs": []
    },
    {
      "cell_type": "code",
      "source": [
        "field = np.zeros((10,10))\n",
        "field"
      ],
      "metadata": {
        "colab": {
          "base_uri": "https://localhost:8080/"
        },
        "id": "LwYzj0N2WNGL",
        "outputId": "12115650-e652-4c65-f6b5-7d6c940d6789"
      },
      "execution_count": null,
      "outputs": [
        {
          "output_type": "execute_result",
          "data": {
            "text/plain": [
              "array([[0., 0., 0., 0., 0., 0., 0., 0., 0., 0.],\n",
              "       [0., 0., 0., 0., 0., 0., 0., 0., 0., 0.],\n",
              "       [0., 0., 0., 0., 0., 0., 0., 0., 0., 0.],\n",
              "       [0., 0., 0., 0., 0., 0., 0., 0., 0., 0.],\n",
              "       [0., 0., 0., 0., 0., 0., 0., 0., 0., 0.],\n",
              "       [0., 0., 0., 0., 0., 0., 0., 0., 0., 0.],\n",
              "       [0., 0., 0., 0., 0., 0., 0., 0., 0., 0.],\n",
              "       [0., 0., 0., 0., 0., 0., 0., 0., 0., 0.],\n",
              "       [0., 0., 0., 0., 0., 0., 0., 0., 0., 0.],\n",
              "       [0., 0., 0., 0., 0., 0., 0., 0., 0., 0.]])"
            ]
          },
          "metadata": {},
          "execution_count": 24
        }
      ]
    },
    {
      "cell_type": "code",
      "source": [
        "idxs = np.random.choice(np.arange(100), size=20, replace=False)\n",
        "vals = np.random.normal(size=20)\n",
        "field.ravel()[idxs] = vals\n",
        "field"
      ],
      "metadata": {
        "colab": {
          "base_uri": "https://localhost:8080/"
        },
        "id": "s0NZnLN7WNNC",
        "outputId": "f5273362-71da-4b14-b5fd-d592242c3f41"
      },
      "execution_count": null,
      "outputs": [
        {
          "output_type": "execute_result",
          "data": {
            "text/plain": [
              "array([[ 0.        ,  0.        ,  0.        ,  0.        ,  0.        ,\n",
              "         0.        ,  0.        ,  0.        ,  0.        ,  0.        ],\n",
              "       [ 0.        ,  0.        ,  0.        ,  0.        ,  0.        ,\n",
              "         0.        ,  0.        ,  0.        , -0.03030373,  0.        ],\n",
              "       [-0.74455502,  0.        ,  0.        ,  0.        ,  0.        ,\n",
              "         0.        ,  0.        ,  0.        ,  0.64439215,  0.        ],\n",
              "       [ 0.        ,  0.0049198 ,  0.        ,  0.        ,  0.        ,\n",
              "         0.        ,  0.        ,  0.        ,  0.        ,  0.        ],\n",
              "       [ 0.        ,  0.        , -0.52759797,  0.        ,  0.        ,\n",
              "         1.57016739,  0.        ,  0.        ,  0.        , -0.78082448],\n",
              "       [-0.39451908,  0.        ,  0.        ,  0.        ,  0.        ,\n",
              "        -0.09978997,  0.        , -0.01094582,  0.        ,  0.        ],\n",
              "       [ 0.        , -0.32008518,  0.        ,  0.        ,  0.        ,\n",
              "         0.        ,  0.16240999,  0.        ,  0.09697199,  0.        ],\n",
              "       [ 0.        ,  0.        ,  0.        , -1.18500451,  0.5546765 ,\n",
              "         0.        ,  0.        ,  0.        ,  0.        ,  0.        ],\n",
              "       [ 0.        ,  0.        ,  1.59346794, -0.55059085, -1.53226148,\n",
              "         0.        , -0.6185349 ,  0.        ,  0.        ,  0.        ],\n",
              "       [ 0.        ,  0.        ,  0.        , -0.92914834,  0.        ,\n",
              "         0.        ,  0.        ,  0.        ,  0.        ,  0.        ]])"
            ]
          },
          "metadata": {},
          "execution_count": 29
        }
      ]
    },
    {
      "cell_type": "code",
      "source": [
        "generator = np.random.default_rng(80085)\n",
        "scores = np.round(generator.uniform(high=100.0, low=30.0, size=15), 2)\n",
        "print(scores)"
      ],
      "metadata": {
        "colab": {
          "base_uri": "https://localhost:8080/"
        },
        "id": "LO6rRSoYTqkM",
        "outputId": "42f8b0e2-7211-4a48-be83-13922b7808cc"
      },
      "execution_count": null,
      "outputs": [
        {
          "output_type": "stream",
          "name": "stdout",
          "text": [
            "[68.37 36.32 76.06 56.56 56.07 53.64 63.28 63.61 36.15 87.58 80.18 81.77\n",
            " 84.47 75.63 42.34]\n"
          ]
        }
      ]
    },
    {
      "cell_type": "code",
      "source": [
        "mask = scores < 60.0\n",
        "scores[np.nonzero(mask)[0][:3]] = 0\n",
        "print(scores)"
      ],
      "metadata": {
        "colab": {
          "base_uri": "https://localhost:8080/"
        },
        "id": "FBFu-4BbTqxr",
        "outputId": "fc152809-de8e-4fa0-d778-d8ee5ee5f440"
      },
      "execution_count": null,
      "outputs": [
        {
          "output_type": "stream",
          "name": "stdout",
          "text": [
            "[68.37  0.   76.06  0.    0.   53.64 63.28 63.61 36.15 87.58 80.18 81.77\n",
            " 84.47 75.63 42.34]\n"
          ]
        }
      ]
    },
    {
      "cell_type": "code",
      "source": [
        "scores = np.random.randn(10)\n",
        "diff = np.abs(scores[:, None] - scores)\n",
        "plt.imshow(diff)"
      ],
      "metadata": {
        "colab": {
          "base_uri": "https://localhost:8080/",
          "height": 448
        },
        "id": "md0_6v-00hus",
        "outputId": "c157b7de-8c0b-46bf-b111-daaa393f7948"
      },
      "execution_count": null,
      "outputs": [
        {
          "output_type": "execute_result",
          "data": {
            "text/plain": [
              "<matplotlib.image.AxesImage at 0x7f010c13dfc0>"
            ]
          },
          "metadata": {},
          "execution_count": 16
        },
        {
          "output_type": "display_data",
          "data": {
            "text/plain": [
              "<Figure size 640x480 with 1 Axes>"
            ],
            "image/png": "[encoded data removed]"
          },
          "metadata": {}
        }
      ]
    },
    {
      "cell_type": "code",
      "source": [
        "foo = np.random.randn(3,3)\n",
        "print(foo)\n",
        "# mask = foo < 0\n",
        "# foo[mask] = 0.0\n",
        "# print(foo)\n",
        "# index_x = np.array([True, False, True])\n",
        "# index_y = np.array([False, False, True])\n",
        "# foo[index_x, index_y]\n",
        "print(foo[(foo > 0) & (foo < 1)])"
      ],
      "metadata": {
        "colab": {
          "base_uri": "https://localhost:8080/"
        },
        "id": "C5z3ajzkr2xj",
        "outputId": "6a0d7359-f0dd-46db-85ae-c0812b12326a"
      },
      "execution_count": null,
      "outputs": [
        {
          "output_type": "stream",
          "name": "stdout",
          "text": [
            "[[ 1.10129255  0.0477631  -0.20372752]\n",
            " [-0.93117334 -0.98269608  1.08301355]\n",
            " [-2.01173158 -1.13972228  0.41953056]]\n",
            "[0.0477631  0.41953056]\n"
          ]
        }
      ]
    },
    {
      "cell_type": "code",
      "source": [],
      "metadata": {
        "id": "h6FP5Mqyr24-"
      },
      "execution_count": null,
      "outputs": []
    },
    {
      "cell_type": "code",
      "source": [],
      "metadata": {
        "id": "JOMtMQ03r3DA"
      },
      "execution_count": null,
      "outputs": []
    },
    {
      "cell_type": "code",
      "source": [
        "points = np.random.rand(200,2) # 10 points in 2D space\n",
        "centers = np.random.rand(4,2) # 2 points in 2D space"
      ],
      "metadata": {
        "id": "qvW8J8X_st_x"
      },
      "execution_count": null,
      "outputs": []
    },
    {
      "cell_type": "code",
      "source": [
        "plt.scatter(points[:,0], points[:,1], c=\"k\")\n",
        "plt.scatter(centers[:,0], centers[:,1], c=\"r\", marker=\"s\")"
      ],
      "metadata": {
        "colab": {
          "base_uri": "https://localhost:8080/",
          "height": 448
        },
        "id": "IxnBy5XmsuH-",
        "outputId": "0b0d2138-59df-4707-c08f-0e091e68bf85"
      },
      "execution_count": null,
      "outputs": [
        {
          "output_type": "execute_result",
          "data": {
            "text/plain": [
              "<matplotlib.collections.PathCollection at 0x784e66cc3dc0>"
            ]
          },
          "metadata": {},
          "execution_count": 82
        },
        {
          "output_type": "display_data",
          "data": {
            "text/plain": [
              "<Figure size 640x480 with 1 Axes>"
            ],
            "image/png": "[encoded data removed]"
          },
          "metadata": {}
        }
      ]
    },
    {
      "cell_type": "code",
      "source": [
        "def train_step(points: np.array, centers: np.array):\n",
        "  assert points.shape[-1] == centers.shape[-1]\n",
        "  K = centers.shape[0]\n",
        "  squared_differences = np.square(points - centers[:, None, :]).sum(axis=-1)\n",
        "  closest_center = np.argmin(squared_differences, axis=0)\n",
        "  new_centers = np.array([points[closest_center == k].mean(axis=0) for k in range(K)])\n",
        "  return new_centers, np.sum(squared_differences)"
      ],
      "metadata": {
        "id": "IAFZd6xisuQA"
      },
      "execution_count": null,
      "outputs": []
    },
    {
      "cell_type": "code",
      "source": [
        "num_steps = 5\n",
        "losses = []\n",
        "for i in range(num_steps):\n",
        "  centers, loss = train_step(points, centers)\n",
        "  losses.append(loss)\n",
        "  plt.figure(figsize=(5,5))\n",
        "  plt.scatter(points[:,0], points[:,1])\n",
        "  plt.scatter(centers[:,0], centers[:,1], c=\"r\", marker=\"s\", s=8)\n",
        "  plt.show()\n",
        "plt.plot(losses)"
      ],
      "metadata": {
        "colab": {
          "base_uri": "https://localhost:8080/",
          "height": 1000
        },
        "id": "JjqR2MoPk7Gj",
        "outputId": "57d36994-3b40-484b-ac6f-c034085885a0"
      },
      "execution_count": null,
      "outputs": [
        {
          "output_type": "display_data",
          "data": {
            "text/plain": [
              "<Figure size 500x500 with 1 Axes>"
            ],
            "image/png": "[encoded data removed]"
          },
          "metadata": {}
        },
        {
          "output_type": "display_data",
          "data": {
            "text/plain": [
              "<Figure size 500x500 with 1 Axes>"
            ],
            "image/png": "[encoded data removed]"
          },
          "metadata": {}
        },
        {
          "output_type": "display_data",
          "data": {
            "text/plain": [
              "<Figure size 500x500 with 1 Axes>"
            ],
            "image/png": "[encoded data removed]"
          },
          "metadata": {}
        },
        {
          "output_type": "display_data",
          "data": {
            "text/plain": [
              "<Figure size 500x500 with 1 Axes>"
            ],
            "image/png": "[encoded data removed]"
          },
          "metadata": {}
        },
        {
          "output_type": "display_data",
          "data": {
            "text/plain": [
              "<Figure size 500x500 with 1 Axes>"
            ],
            "image/png": "[encoded data removed]"
          },
          "metadata": {}
        },
        {
          "output_type": "execute_result",
          "data": {
            "text/plain": [
              "[<matplotlib.lines.Line2D at 0x784e66c3a020>]"
            ]
          },
          "metadata": {},
          "execution_count": 84
        },
        {
          "output_type": "display_data",
          "data": {
            "text/plain": [
              "<Figure size 640x480 with 1 Axes>"
            ],
            "image/png": "[encoded data removed]"
          },
          "metadata": {}
        }
      ]
    },
    {
      "cell_type": "code",
      "source": [
        "squared_differences = np.square(points - centers[:, None, :]).sum(axis=-1)\n",
        "closest_center = np.argmin(squared_differences, axis=0)\n",
        "# new_centers = [np.sum(points[mask], axis=0) for ]\n",
        "# new_centers = []\n",
        "# for i in range(3):\n",
        "#   mask = closest_center == i\n",
        "#   new_center = np.mean(points[mask], axis=0)\n",
        "#   new_centers.append(new_center)\n",
        "# new_centers = np.array(new_centers)\n",
        "new_centers = np.array([points[closest_center == k].mean(axis=0) for k in range(3)])\n",
        "print(new_centers.shape)\n",
        "print(new_centers)"
      ],
      "metadata": {
        "colab": {
          "base_uri": "https://localhost:8080/"
        },
        "id": "mUWFQv0-suZX",
        "outputId": "6e610866-869e-493f-9e1a-0a53058483ec"
      },
      "execution_count": null,
      "outputs": [
        {
          "output_type": "stream",
          "name": "stdout",
          "text": [
            "(3, 2)\n",
            "[[0.37538153 0.79141974]\n",
            " [0.21692214 0.22706844]\n",
            " [0.94577313 0.70313911]]\n"
          ]
        }
      ]
    },
    {
      "cell_type": "code",
      "source": [
        "plt.scatter(points[:,0], points[:,1], c=closest_center)\n",
        "plt.scatter(new_centers[:,0], new_centers[:,1], c=\"r\", marker=\"s\", s=8)"
      ],
      "metadata": {
        "colab": {
          "base_uri": "https://localhost:8080/",
          "height": 450
        },
        "id": "LFB4mdJrHiC1",
        "outputId": "febbad61-d49d-4e96-d56f-633fd44dd2c2"
      },
      "execution_count": null,
      "outputs": [
        {
          "output_type": "execute_result",
          "data": {
            "text/plain": [
              "<matplotlib.collections.PathCollection at 0x784e67a6f160>"
            ]
          },
          "metadata": {},
          "execution_count": 38
        },
        {
          "output_type": "display_data",
          "data": {
            "text/plain": [
              "<Figure size 640x480 with 1 Axes>"
            ],
            "image/png": "[encoded data removed]"
          },
          "metadata": {}
        }
      ]
    },
    {
      "cell_type": "code",
      "source": [
        "print(squared_differences)"
      ],
      "metadata": {
        "colab": {
          "base_uri": "https://localhost:8080/"
        },
        "id": "eqgBfbQosuhj",
        "outputId": "1dc433db-6635-48e1-fd37-b1d0a3ec00e8"
      },
      "execution_count": null,
      "outputs": [
        {
          "output_type": "stream",
          "name": "stdout",
          "text": [
            "[[0.07910235 0.04239737 0.05683884 0.49064118 0.31480662 0.06400878\n",
            "  0.17021518 0.07394845 0.43034639 0.33031453]\n",
            " [0.37005313 0.15768601 0.31960087 0.93923412 0.07648082 0.01043226\n",
            "  0.23006941 0.31135893 0.55742121 0.06134239]\n",
            " [0.18270396 0.55876842 0.22015802 0.01048123 0.97930527 0.58743944\n",
            "  0.2594453  0.41042988 0.22567925 1.20096409]]\n"
          ]
        }
      ]
    },
    {
      "cell_type": "code",
      "source": [
        "closest_center"
      ],
      "metadata": {
        "colab": {
          "base_uri": "https://localhost:8080/"
        },
        "id": "_3f-2jSZsupb",
        "outputId": "1de8fcdc-7bfe-4b43-d4e2-3476f8daf182"
      },
      "execution_count": null,
      "outputs": [
        {
          "output_type": "execute_result",
          "data": {
            "text/plain": [
              "array([0, 0, 0, 2, 1, 1, 0, 0, 2, 1])"
            ]
          },
          "metadata": {},
          "execution_count": 40
        }
      ]
    },
    {
      "cell_type": "code",
      "source": [
        "assignment = closest_center == np.arange(3)[:,None]\n",
        "assignment.shape"
      ],
      "metadata": {
        "colab": {
          "base_uri": "https://localhost:8080/"
        },
        "id": "dwxxfRk2IccV",
        "outputId": "984e85d8-2e7c-4b33-f0f3-be52dfaf397c"
      },
      "execution_count": null,
      "outputs": [
        {
          "output_type": "execute_result",
          "data": {
            "text/plain": [
              "(3, 10)"
            ]
          },
          "metadata": {},
          "execution_count": 42
        }
      ]
    },
    {
      "cell_type": "code",
      "source": [
        "\n",
        "temp = points[assignment[0,:]]\n",
        "temp.shape"
      ],
      "metadata": {
        "colab": {
          "base_uri": "https://localhost:8080/"
        },
        "id": "HDzqj2bnIckj",
        "outputId": "6445d968-0a74-499f-df7c-ce1e10c0db3a"
      },
      "execution_count": null,
      "outputs": [
        {
          "output_type": "execute_result",
          "data": {
            "text/plain": [
              "(5, 2)"
            ]
          },
          "metadata": {},
          "execution_count": 44
        }
      ]
    },
    {
      "cell_type": "code",
      "source": [
        "dummy = np.stack([points]*3)\n",
        "temp = dummy[assignment, :]\n"
      ],
      "metadata": {
        "colab": {
          "base_uri": "https://localhost:8080/"
        },
        "id": "f678n7r1Icty",
        "outputId": "2fa076f5-f428-44d3-a01f-c4439c759ea9"
      },
      "execution_count": null,
      "outputs": [
        {
          "output_type": "execute_result",
          "data": {
            "text/plain": [
              "array([[ True,  True],\n",
              "       [ True,  True],\n",
              "       [ True,  True],\n",
              "       [False, False],\n",
              "       [False, False],\n",
              "       [False, False],\n",
              "       [False, False],\n",
              "       [False, False],\n",
              "       [False, False],\n",
              "       [False, False]])"
            ]
          },
          "metadata": {},
          "execution_count": 48
        }
      ]
    },
    {
      "cell_type": "code",
      "source": [
        "generator = np.random.default_rng(80085)\n",
        "scores = np.round(generator.uniform(30.0, 100.0, 15))\n",
        "print(scores)"
      ],
      "metadata": {
        "colab": {
          "base_uri": "https://localhost:8080/"
        },
        "id": "ajzC3pLQJA0s",
        "outputId": "d321f993-9843-4c97-933b-ecd291e7d78e"
      },
      "execution_count": null,
      "outputs": [
        {
          "output_type": "stream",
          "name": "stdout",
          "text": [
            "[68. 36. 76. 57. 56. 54. 63. 64. 36. 88. 80. 82. 84. 76. 42.]\n"
          ]
        }
      ]
    },
    {
      "cell_type": "code",
      "source": [
        "mask = scores < 60\n",
        "idxs = np.arange(len(scores))[mask]\n",
        "scores[idxs[:3]] = 0.\n",
        "print(scores)"
      ],
      "metadata": {
        "colab": {
          "base_uri": "https://localhost:8080/"
        },
        "id": "QCdb8AchJA6J",
        "outputId": "533866c3-3118-48f5-ae55-133b10ea56d1"
      },
      "execution_count": null,
      "outputs": [
        {
          "output_type": "stream",
          "name": "stdout",
          "text": [
            "[68.  0. 76.  0.  0. 54. 63. 64. 36. 88. 80. 82. 84. 76. 42.]\n"
          ]
        }
      ]
    },
    {
      "cell_type": "code",
      "source": [
        "field = np.zeros((10,10))\n",
        "field"
      ],
      "metadata": {
        "colab": {
          "base_uri": "https://localhost:8080/"
        },
        "id": "Dfo5e0c_JA_i",
        "outputId": "43126728-2905-4354-b4ed-4ad8d9cec769"
      },
      "execution_count": null,
      "outputs": [
        {
          "output_type": "execute_result",
          "data": {
            "text/plain": [
              "array([[0., 0., 0., 0., 0., 0., 0., 0., 0., 0.],\n",
              "       [0., 0., 0., 0., 0., 0., 0., 0., 0., 0.],\n",
              "       [0., 0., 0., 0., 0., 0., 0., 0., 0., 0.],\n",
              "       [0., 0., 0., 0., 0., 0., 0., 0., 0., 0.],\n",
              "       [0., 0., 0., 0., 0., 0., 0., 0., 0., 0.],\n",
              "       [0., 0., 0., 0., 0., 0., 0., 0., 0., 0.],\n",
              "       [0., 0., 0., 0., 0., 0., 0., 0., 0., 0.],\n",
              "       [0., 0., 0., 0., 0., 0., 0., 0., 0., 0.],\n",
              "       [0., 0., 0., 0., 0., 0., 0., 0., 0., 0.],\n",
              "       [0., 0., 0., 0., 0., 0., 0., 0., 0., 0.]])"
            ]
          },
          "metadata": {},
          "execution_count": 59
        }
      ]
    },
    {
      "cell_type": "code",
      "source": [
        "np.random.choice(field.size, size=20, replace=False)"
      ],
      "metadata": {
        "colab": {
          "base_uri": "https://localhost:8080/"
        },
        "id": "xT98tSQRJBEs",
        "outputId": "9878a971-cf8e-4dab-fa5e-8f6c64088730"
      },
      "execution_count": null,
      "outputs": [
        {
          "output_type": "execute_result",
          "data": {
            "text/plain": [
              "array([78, 98, 62, 92, 20, 84, 55, 94, 32, 59, 31, 89, 14, 47,  2, 80, 43,\n",
              "       25, 45, 33])"
            ]
          },
          "metadata": {},
          "execution_count": 57
        }
      ]
    },
    {
      "cell_type": "code",
      "source": [
        "mask = np.random.choice(np.arange(100), size=20, replace=False)\n",
        "temp = field.ravel()\n",
        "temp[mask] = np.random.normal(size=20)\n",
        "field"
      ],
      "metadata": {
        "colab": {
          "base_uri": "https://localhost:8080/"
        },
        "id": "Pp6YiQCDL3TQ",
        "outputId": "c0886748-6d26-415a-b31b-1fa187cebd5c"
      },
      "execution_count": null,
      "outputs": [
        {
          "output_type": "execute_result",
          "data": {
            "text/plain": [
              "array([[ 0.        ,  1.18959978,  0.        ,  0.        ,  0.        ,\n",
              "         0.        ,  0.07526595,  0.        ,  0.        ,  0.        ],\n",
              "       [ 0.        ,  0.        , -0.3582092 ,  0.        ,  0.        ,\n",
              "         0.        ,  0.        ,  0.        ,  0.        , -0.391034  ],\n",
              "       [ 0.        ,  0.        ,  0.        ,  0.        ,  0.        ,\n",
              "         0.        ,  0.        ,  0.        ,  0.        ,  0.        ],\n",
              "       [ 0.        ,  0.        ,  0.86684906,  0.        ,  0.55564024,\n",
              "         0.        , -0.22674943,  0.        ,  0.        ,  0.        ],\n",
              "       [ 0.5761746 ,  0.        ,  0.        , -2.17668139,  0.        ,\n",
              "         0.        ,  2.1728423 , -0.29810527,  0.        ,  0.        ],\n",
              "       [ 0.        ,  0.        ,  0.        ,  0.        ,  0.        ,\n",
              "         0.        ,  1.56281357,  0.        ,  0.        ,  0.        ],\n",
              "       [ 0.        ,  0.        ,  0.        ,  0.        ,  0.        ,\n",
              "         0.        ,  0.47103683,  0.90186344,  0.        ,  0.        ],\n",
              "       [ 0.        ,  0.        ,  0.        ,  0.        ,  0.        ,\n",
              "        -1.19326012,  0.        ,  0.        ,  0.        ,  0.        ],\n",
              "       [ 0.        ,  0.        ,  0.        ,  0.        ,  0.22333616,\n",
              "        -0.70255112, -0.77108654, -0.87124688, -0.87500867,  0.        ],\n",
              "       [ 0.        ,  0.        ,  0.        ,  0.        ,  0.        ,\n",
              "         0.        ,  0.        ,  0.        ,  0.        ,  0.        ]])"
            ]
          },
          "metadata": {},
          "execution_count": 60
        }
      ]
    },
    {
      "cell_type": "code",
      "source": [
        "generator = np.random.default_rng(1010)\n",
        "love_scores = np.round(generator.uniform(0.0, 100.0, 10), 2)"
      ],
      "metadata": {
        "id": "Oii9PuzIBtAh"
      },
      "execution_count": null,
      "outputs": []
    },
    {
      "cell_type": "code",
      "source": [
        "print(love_scores)"
      ],
      "metadata": {
        "colab": {
          "base_uri": "https://localhost:8080/"
        },
        "id": "FW6x5_MJBtFm",
        "outputId": "68a947e4-ccfe-41f8-afa6-3c08fe66df26"
      },
      "execution_count": null,
      "outputs": [
        {
          "output_type": "stream",
          "name": "stdout",
          "text": [
            "[ 9.5  53.58 91.77 98.15 84.88 74.61 40.94 56.49  8.39 64.69]\n"
          ]
        }
      ]
    },
    {
      "cell_type": "code",
      "source": [
        "diff = np.abs(love_scores - love_scores[:, None])"
      ],
      "metadata": {
        "id": "ScIscFYrBtKh"
      },
      "execution_count": null,
      "outputs": []
    },
    {
      "cell_type": "code",
      "source": [
        "plt.imshow(diff)\n",
        "plt.colorbar()"
      ],
      "metadata": {
        "colab": {
          "base_uri": "https://localhost:8080/",
          "height": 448
        },
        "id": "MqkbJwJpBtPP",
        "outputId": "5a25ef1d-1b45-44c0-c401-86eeb57efb4d"
      },
      "execution_count": null,
      "outputs": [
        {
          "output_type": "execute_result",
          "data": {
            "text/plain": [
              "<matplotlib.colorbar.Colorbar at 0x7ee5e7830eb0>"
            ]
          },
          "metadata": {},
          "execution_count": 35
        },
        {
          "output_type": "display_data",
          "data": {
            "text/plain": [
              "<Figure size 640x480 with 2 Axes>"
            ],
            "image/png": "[encoded data removed]"
          },
          "metadata": {}
        }
      ]
    },
    {
      "cell_type": "code",
      "source": [],
      "metadata": {
        "id": "qkmOQXWFBtTR"
      },
      "execution_count": null,
      "outputs": []
    },
    {
      "cell_type": "code",
      "source": [],
      "metadata": {
        "id": "Nm5T2J9tBtYK"
      },
      "execution_count": null,
      "outputs": []
    },
    {
      "cell_type": "code",
      "source": [
        "temp = np.array([[1, 2, 3], [4, np.inf, 6.0]])\n",
        "np.isinf(temp)"
      ],
      "metadata": {
        "colab": {
          "base_uri": "https://localhost:8080/"
        },
        "id": "J-vUS91K7LUN",
        "outputId": "d38f59c3-7360-42a7-94fa-4d13ed395b3c"
      },
      "execution_count": null,
      "outputs": [
        {
          "output_type": "execute_result",
          "data": {
            "text/plain": [
              "array([[False, False, False],\n",
              "       [False,  True, False]])"
            ]
          },
          "metadata": {},
          "execution_count": 6
        }
      ]
    },
    {
      "cell_type": "code",
      "source": [
        "np.random.seed(42)\n",
        "np.random.randint(low=1, high=7, size=(3))"
      ],
      "metadata": {
        "colab": {
          "base_uri": "https://localhost:8080/"
        },
        "id": "0US0rgcj7LcC",
        "outputId": "3038d927-4d05-4387-bd80-5b50f3337926"
      },
      "execution_count": null,
      "outputs": [
        {
          "output_type": "execute_result",
          "data": {
            "text/plain": [
              "array([4, 5, 3])"
            ]
          },
          "metadata": {},
          "execution_count": 20
        }
      ]
    },
    {
      "cell_type": "code",
      "source": [
        "np.random.choice([1, 2, 3, 4, 5, 6], size=5, replace=False)"
      ],
      "metadata": {
        "colab": {
          "base_uri": "https://localhost:8080/"
        },
        "id": "Lc4CfdQe8-xZ",
        "outputId": "a0300620-47ef-4e2f-8ab4-bb262597c7a6"
      },
      "execution_count": null,
      "outputs": [
        {
          "output_type": "execute_result",
          "data": {
            "text/plain": [
              "array([6, 3, 1, 4, 5])"
            ]
          },
          "metadata": {},
          "execution_count": 28
        }
      ]
    },
    {
      "cell_type": "code",
      "source": [
        "np.random.random_sample?"
      ],
      "metadata": {
        "id": "7eB5kFYo8-3t"
      },
      "execution_count": null,
      "outputs": []
    },
    {
      "cell_type": "code",
      "source": [],
      "metadata": {
        "id": "ozsiJGWS8-9d"
      },
      "execution_count": null,
      "outputs": []
    },
    {
      "cell_type": "code",
      "source": [],
      "metadata": {
        "id": "Y1NQ0sbs8_Dt"
      },
      "execution_count": null,
      "outputs": []
    },
    {
      "cell_type": "code",
      "source": [
        "temp = np.arange(9)\n",
        "temp"
      ],
      "metadata": {
        "colab": {
          "base_uri": "https://localhost:8080/"
        },
        "id": "Igve6aM-4LQH",
        "outputId": "7edf31d6-2d5e-4e15-d996-815a9f955da5"
      },
      "execution_count": null,
      "outputs": [
        {
          "output_type": "execute_result",
          "data": {
            "text/plain": [
              "array([0, 1, 2, 3, 4, 5, 6, 7, 8])"
            ]
          },
          "metadata": {},
          "execution_count": 12
        }
      ]
    },
    {
      "cell_type": "code",
      "source": [
        "r = np.reshape(temp, (3,3), order='C')\n",
        "c = np.reshape(temp, (3,3), order='F')"
      ],
      "metadata": {
        "id": "orKFW6Zu4LV_"
      },
      "execution_count": null,
      "outputs": []
    },
    {
      "cell_type": "code",
      "source": [
        "temp = np.arange(9).reshape(3,3)\n",
        "temp"
      ],
      "metadata": {
        "colab": {
          "base_uri": "https://localhost:8080/"
        },
        "id": "EFGoFbSX4Lam",
        "outputId": "ded35477-de6e-4651-bf03-2bf4347d06bf"
      },
      "execution_count": null,
      "outputs": [
        {
          "output_type": "execute_result",
          "data": {
            "text/plain": [
              "array([[0, 1, 2],\n",
              "       [3, 4, 5],\n",
              "       [6, 7, 8]])"
            ]
          },
          "metadata": {},
          "execution_count": 17
        }
      ]
    },
    {
      "cell_type": "code",
      "source": [
        "r = np.reshape(temp, (-1,), order='C')\n",
        "c = np.reshape(temp, (-1,), order='F')"
      ],
      "metadata": {
        "id": "4aNgk1h04Lfj"
      },
      "execution_count": null,
      "outputs": []
    },
    {
      "cell_type": "code",
      "source": [
        "temp = np.arange(8).reshape(4,2)\n",
        "temp"
      ],
      "metadata": {
        "colab": {
          "base_uri": "https://localhost:8080/"
        },
        "id": "k8mzQ2Us4LjU",
        "outputId": "c894f7d0-8e28-44fd-8f20-c9da773a06ee"
      },
      "execution_count": null,
      "outputs": [
        {
          "output_type": "execute_result",
          "data": {
            "text/plain": [
              "array([[0, 1],\n",
              "       [2, 3],\n",
              "       [4, 5],\n",
              "       [6, 7]])"
            ]
          },
          "metadata": {},
          "execution_count": 23
        }
      ]
    },
    {
      "cell_type": "code",
      "source": [
        "r = np.reshape(temp, (2,4), order='C')\n",
        "c = np.reshape(temp, (2,4), order='F')"
      ],
      "metadata": {
        "id": "i3Ls5csG8tq3"
      },
      "execution_count": null,
      "outputs": []
    },
    {
      "cell_type": "code",
      "source": [
        "c"
      ],
      "metadata": {
        "colab": {
          "base_uri": "https://localhost:8080/"
        },
        "id": "AaBtfgYo8t6j",
        "outputId": "8206ba11-d6ff-497d-82e1-20751e51e0eb"
      },
      "execution_count": null,
      "outputs": [
        {
          "output_type": "execute_result",
          "data": {
            "text/plain": [
              "array([[0, 4, 1, 5],\n",
              "       [2, 6, 3, 7]])"
            ]
          },
          "metadata": {},
          "execution_count": 26
        }
      ]
    },
    {
      "cell_type": "code",
      "source": [
        "A = np.array([3, 11, 4, 5])\n",
        "B = np.array([5, 0, 3])\n",
        "# [4, 3] [4,3]\n",
        "C = A[:, None] - B\n",
        "C.shape"
      ],
      "metadata": {
        "colab": {
          "base_uri": "https://localhost:8080/"
        },
        "id": "qVyMFX-nT1VW",
        "outputId": "0c216ab2-b823-4690-c00f-bace8d42a4c4"
      },
      "execution_count": null,
      "outputs": [
        {
          "output_type": "execute_result",
          "data": {
            "text/plain": [
              "(4, 3)"
            ]
          },
          "metadata": {},
          "execution_count": 4
        }
      ]
    },
    {
      "cell_type": "code",
      "source": [
        "temp = np.random.randn(4,2)\n",
        "t2 = temp.reshape(-1,1)"
      ],
      "metadata": {
        "id": "162N0N5Zn5RA"
      },
      "execution_count": null,
      "outputs": []
    },
    {
      "cell_type": "code",
      "source": [
        "(t)"
      ],
      "metadata": {
        "id": "awR4CflSn5Wo"
      },
      "execution_count": null,
      "outputs": []
    },
    {
      "cell_type": "code",
      "source": [],
      "metadata": {
        "id": "GDzByHiWn5b2"
      },
      "execution_count": null,
      "outputs": []
    },
    {
      "cell_type": "code",
      "source": [],
      "metadata": {
        "id": "hwlBsXt4n5h2"
      },
      "execution_count": null,
      "outputs": []
    },
    {
      "cell_type": "code",
      "source": [],
      "metadata": {
        "id": "kwsb-Wo9n5nq"
      },
      "execution_count": null,
      "outputs": []
    },
    {
      "cell_type": "code",
      "source": [],
      "metadata": {
        "id": "JaudiRAKn5tP"
      },
      "execution_count": null,
      "outputs": []
    },
    {
      "cell_type": "code",
      "source": [
        "points = np.random.randn(10,2)"
      ],
      "metadata": {
        "id": "DzUjFhpCT1f0"
      },
      "execution_count": null,
      "outputs": []
    },
    {
      "cell_type": "code",
      "source": [
        "centers = np.array([\n",
        "    [-1,-1],\n",
        "    [1,1],\n",
        "    [-1,1]\n",
        "])\n",
        "centers.shape"
      ],
      "metadata": {
        "colab": {
          "base_uri": "https://localhost:8080/"
        },
        "id": "HVIvMLnaVGVu",
        "outputId": "9897e638-535e-4df9-a663-80ae562a2fbd"
      },
      "execution_count": null,
      "outputs": [
        {
          "output_type": "execute_result",
          "data": {
            "text/plain": [
              "(3, 2)"
            ]
          },
          "metadata": {},
          "execution_count": 36
        }
      ]
    },
    {
      "cell_type": "code",
      "source": [
        "diffs = (points[:, None, :] - centers[None, :, :])\n",
        "dists = np.sqrt(np.square(diffs).sum(axis=-1))\n",
        "category = np.argmin(dists, axis=-1)\n"
      ],
      "metadata": {
        "colab": {
          "base_uri": "https://localhost:8080/"
        },
        "id": "-O_2blkfVy5Q",
        "outputId": "c31cf20f-a2cd-4b6e-af18-80afe4ce9fa9"
      },
      "execution_count": null,
      "outputs": [
        {
          "output_type": "execute_result",
          "data": {
            "text/plain": [
              "array([2, 1, 2, 1, 0, 1, 0, 1, 1, 2])"
            ]
          },
          "metadata": {},
          "execution_count": 44
        }
      ]
    },
    {
      "cell_type": "code",
      "source": [
        "plt.scatter(points[:,0], points[:,1], c='k')\n",
        "plt.scatter(centers[:,0], centers[:,1], c='r')"
      ],
      "metadata": {
        "colab": {
          "base_uri": "https://localhost:8080/",
          "height": 448
        },
        "id": "daOyHP1sU6rF",
        "outputId": "ea6892ad-1eb2-489c-a61e-f5ff4c00c2d3"
      },
      "execution_count": null,
      "outputs": [
        {
          "output_type": "execute_result",
          "data": {
            "text/plain": [
              "<matplotlib.collections.PathCollection at 0x7bd58e661720>"
            ]
          },
          "metadata": {},
          "execution_count": 37
        },
        {
          "output_type": "display_data",
          "data": {
            "text/plain": [
              "<Figure size 640x480 with 1 Axes>"
            ],
            "image/png": "[encoded data removed]"
          },
          "metadata": {}
        }
      ]
    },
    {
      "cell_type": "code",
      "source": [],
      "metadata": {
        "id": "_WO2QMYbU6yY"
      },
      "execution_count": null,
      "outputs": []
    },
    {
      "cell_type": "code",
      "source": [],
      "metadata": {
        "id": "LqveQlDgU65K"
      },
      "execution_count": null,
      "outputs": []
    },
    {
      "cell_type": "code",
      "source": [],
      "metadata": {
        "id": "OTMnjs0FU7A7"
      },
      "execution_count": null,
      "outputs": []
    },
    {
      "cell_type": "code",
      "source": [
        "s1 = np.linspace(17,28,3)\n",
        "s2 = np.linspace(32,36,3)\n",
        "ads = np.concatenate((s1,s2))\n",
        "dists = np.abs(ads - 30.0)\n",
        "order = np.array([\"A\", \"B\", \"C\", \"C\", \"B\", \"A\"])\n",
        "mask = order == \"C\"\n",
        "dists[mask]"
      ],
      "metadata": {
        "colab": {
          "base_uri": "https://localhost:8080/"
        },
        "id": "iSwPnt49JBp6",
        "outputId": "ab02ab57-4be5-40fb-abb0-8ccb1e07eeed"
      },
      "execution_count": null,
      "outputs": [
        {
          "output_type": "execute_result",
          "data": {
            "text/plain": [
              "array([2., 2.])"
            ]
          },
          "metadata": {},
          "execution_count": 21
        }
      ]
    },
    {
      "cell_type": "code",
      "source": [
        "np.concatenate?"
      ],
      "metadata": {
        "id": "mbHYPfm7JBxJ"
      },
      "execution_count": null,
      "outputs": []
    },
    {
      "cell_type": "code",
      "source": [],
      "metadata": {
        "id": "AmIsX9b4JB4u"
      },
      "execution_count": null,
      "outputs": []
    },
    {
      "cell_type": "code",
      "source": [
        "np.random.seed(5555)\n",
        "gold = np.random.randint(low=0, high=10, size=(7,7))"
      ],
      "metadata": {
        "id": "HzIaKrYWHc6L"
      },
      "execution_count": null,
      "outputs": []
    },
    {
      "cell_type": "code",
      "source": [
        "gold"
      ],
      "metadata": {
        "colab": {
          "base_uri": "https://localhost:8080/"
        },
        "id": "vpyCQFwiHc_7",
        "outputId": "81e432ff-c308-49f5-c711-9dc2a4308726"
      },
      "execution_count": null,
      "outputs": [
        {
          "output_type": "execute_result",
          "data": {
            "text/plain": [
              "array([[2, 3, 0, 5, 2, 0, 3],\n",
              "       [8, 8, 0, 7, 1, 5, 3],\n",
              "       [0, 1, 6, 2, 1, 4, 5],\n",
              "       [4, 0, 8, 9, 9, 8, 7],\n",
              "       [4, 2, 7, 0, 7, 2, 1],\n",
              "       [9, 8, 9, 2, 5, 0, 8],\n",
              "       [1, 9, 8, 2, 6, 4, 3]])"
            ]
          },
          "metadata": {},
          "execution_count": 4
        }
      ]
    },
    {
      "cell_type": "code",
      "source": [
        "locs = np.array([\n",
        "    [0,4],\n",
        "    [2,2],\n",
        "    [2,3],\n",
        "    [5,1],\n",
        "    [6,3]\n",
        "])"
      ],
      "metadata": {
        "id": "vl4zkMazHdEU"
      },
      "execution_count": null,
      "outputs": []
    },
    {
      "cell_type": "code",
      "source": [
        "np.sum(gold[locs[:,0], locs[:,1]])"
      ],
      "metadata": {
        "colab": {
          "base_uri": "https://localhost:8080/"
        },
        "id": "AwDuLCwUHdIe",
        "outputId": "fd769cfc-705b-4cb2-c776-f8c104d7fede"
      },
      "execution_count": null,
      "outputs": [
        {
          "output_type": "execute_result",
          "data": {
            "text/plain": [
              "20"
            ]
          },
          "metadata": {},
          "execution_count": 10
        }
      ]
    },
    {
      "cell_type": "code",
      "source": [],
      "metadata": {
        "id": "F4g8of8BHdMe"
      },
      "execution_count": null,
      "outputs": []
    },
    {
      "cell_type": "code",
      "source": [],
      "metadata": {
        "id": "dZOSKtVKHdQZ"
      },
      "execution_count": null,
      "outputs": []
    },
    {
      "cell_type": "code",
      "source": [
        "dailywts = 185 - np.arange(5*7)/5"
      ],
      "metadata": {
        "id": "f-XsjLwHOW9L"
      },
      "execution_count": null,
      "outputs": []
    },
    {
      "cell_type": "code",
      "source": [
        "sats = dailywts[5::7]\n",
        "suns = dailywts[6::7]\n",
        "weekend_av = (sats + suns)/2\n",
        "weekend_av"
      ],
      "metadata": {
        "colab": {
          "base_uri": "https://localhost:8080/"
        },
        "id": "KFIdenlhOXCp",
        "outputId": "a6cc7a3a-91e1-441a-c7cc-a7b84b29e8c0"
      },
      "execution_count": null,
      "outputs": [
        {
          "output_type": "execute_result",
          "data": {
            "text/plain": [
              "array([183.9, 182.5, 181.1, 179.7, 178.3])"
            ]
          },
          "metadata": {},
          "execution_count": 60
        }
      ]
    },
    {
      "cell_type": "code",
      "source": [
        "dailywts"
      ],
      "metadata": {
        "colab": {
          "base_uri": "https://localhost:8080/"
        },
        "id": "TzMl6tLaOXH5",
        "outputId": "a2c90cfa-7855-465c-f545-63cf72ee4fa2"
      },
      "execution_count": null,
      "outputs": [
        {
          "output_type": "execute_result",
          "data": {
            "text/plain": [
              "array([185. , 184.8, 184.6, 184.4, 184.2, 184. , 183.8, 183.6, 183.4,\n",
              "       183.2, 183. , 182.8, 182.6, 182.4, 182.2, 182. , 181.8, 181.6,\n",
              "       181.4, 181.2, 181. , 180.8, 180.6, 180.4, 180.2, 180. , 179.8,\n",
              "       179.6, 179.4, 179.2, 179. , 178.8, 178.6, 178.4, 178.2])"
            ]
          },
          "metadata": {},
          "execution_count": 61
        }
      ]
    },
    {
      "cell_type": "code",
      "source": [
        "temp = dailywts.reshape(-1,7)\n",
        "weekend_weight = temp[:, -2:]\n",
        "av = weekend_weight.mean(axis=-1)\n",
        "av"
      ],
      "metadata": {
        "colab": {
          "base_uri": "https://localhost:8080/"
        },
        "id": "fzE2looQOXMk",
        "outputId": "23fa54b3-8f77-400d-ce97-bb11d3d58c3a"
      },
      "execution_count": null,
      "outputs": [
        {
          "output_type": "execute_result",
          "data": {
            "text/plain": [
              "array([183.9, 182.5, 181.1, 179.7, 178.3])"
            ]
          },
          "metadata": {},
          "execution_count": 66
        }
      ]
    },
    {
      "cell_type": "code",
      "source": [],
      "metadata": {
        "id": "WEBSUjZVOXQ1"
      },
      "execution_count": null,
      "outputs": []
    },
    {
      "cell_type": "code",
      "source": [],
      "metadata": {
        "id": "_NUWUmqTOXVS"
      },
      "execution_count": null,
      "outputs": []
    },
    {
      "cell_type": "code",
      "source": [],
      "metadata": {
        "id": "I-xCJqIhOXZe"
      },
      "execution_count": null,
      "outputs": []
    },
    {
      "cell_type": "code",
      "source": [
        "chewy = np.zeros((10,10,10))\n",
        "chewy.shape"
      ],
      "metadata": {
        "colab": {
          "base_uri": "https://localhost:8080/"
        },
        "id": "dBGGntSS7Ww2",
        "outputId": "ae41cddd-9d0f-48e1-a5b6-7ed59e5c4a3e"
      },
      "execution_count": null,
      "outputs": [
        {
          "output_type": "execute_result",
          "data": {
            "text/plain": [
              "(10, 10, 10)"
            ]
          },
          "metadata": {},
          "execution_count": 27
        }
      ]
    },
    {
      "cell_type": "code",
      "source": [
        "i = np.arange(1, 10, 2).reshape(5,1,1)\n",
        "j = np.arange(0, 10, 2).reshape(1,5,1)\n",
        "k = np.array([2,3,5,7]).reshape(1,1,4)\n",
        "chewy[i,j,k] = 1\n",
        "chewy"
      ],
      "metadata": {
        "colab": {
          "base_uri": "https://localhost:8080/"
        },
        "id": "X8r_xEYi7Xio",
        "outputId": "4bab81bb-98b5-4db6-88d2-e0ceb4b842ca"
      },
      "execution_count": null,
      "outputs": [
        {
          "output_type": "execute_result",
          "data": {
            "text/plain": [
              "array([[[0., 0., 0., 0., 0., 0., 0., 0., 0., 0.],\n",
              "        [0., 0., 0., 0., 0., 0., 0., 0., 0., 0.],\n",
              "        [0., 0., 0., 0., 0., 0., 0., 0., 0., 0.],\n",
              "        [0., 0., 0., 0., 0., 0., 0., 0., 0., 0.],\n",
              "        [0., 0., 0., 0., 0., 0., 0., 0., 0., 0.],\n",
              "        [0., 0., 0., 0., 0., 0., 0., 0., 0., 0.],\n",
              "        [0., 0., 0., 0., 0., 0., 0., 0., 0., 0.],\n",
              "        [0., 0., 0., 0., 0., 0., 0., 0., 0., 0.],\n",
              "        [0., 0., 0., 0., 0., 0., 0., 0., 0., 0.],\n",
              "        [0., 0., 0., 0., 0., 0., 0., 0., 0., 0.]],\n",
              "\n",
              "       [[0., 0., 1., 1., 0., 1., 0., 1., 0., 0.],\n",
              "        [0., 0., 0., 0., 0., 0., 0., 0., 0., 0.],\n",
              "        [0., 0., 1., 1., 0., 1., 0., 1., 0., 0.],\n",
              "        [0., 0., 0., 0., 0., 0., 0., 0., 0., 0.],\n",
              "        [0., 0., 1., 1., 0., 1., 0., 1., 0., 0.],\n",
              "        [0., 0., 0., 0., 0., 0., 0., 0., 0., 0.],\n",
              "        [0., 0., 1., 1., 0., 1., 0., 1., 0., 0.],\n",
              "        [0., 0., 0., 0., 0., 0., 0., 0., 0., 0.],\n",
              "        [0., 0., 1., 1., 0., 1., 0., 1., 0., 0.],\n",
              "        [0., 0., 0., 0., 0., 0., 0., 0., 0., 0.]],\n",
              "\n",
              "       [[0., 0., 0., 0., 0., 0., 0., 0., 0., 0.],\n",
              "        [0., 0., 0., 0., 0., 0., 0., 0., 0., 0.],\n",
              "        [0., 0., 0., 0., 0., 0., 0., 0., 0., 0.],\n",
              "        [0., 0., 0., 0., 0., 0., 0., 0., 0., 0.],\n",
              "        [0., 0., 0., 0., 0., 0., 0., 0., 0., 0.],\n",
              "        [0., 0., 0., 0., 0., 0., 0., 0., 0., 0.],\n",
              "        [0., 0., 0., 0., 0., 0., 0., 0., 0., 0.],\n",
              "        [0., 0., 0., 0., 0., 0., 0., 0., 0., 0.],\n",
              "        [0., 0., 0., 0., 0., 0., 0., 0., 0., 0.],\n",
              "        [0., 0., 0., 0., 0., 0., 0., 0., 0., 0.]],\n",
              "\n",
              "       [[0., 0., 1., 1., 0., 1., 0., 1., 0., 0.],\n",
              "        [0., 0., 0., 0., 0., 0., 0., 0., 0., 0.],\n",
              "        [0., 0., 1., 1., 0., 1., 0., 1., 0., 0.],\n",
              "        [0., 0., 0., 0., 0., 0., 0., 0., 0., 0.],\n",
              "        [0., 0., 1., 1., 0., 1., 0., 1., 0., 0.],\n",
              "        [0., 0., 0., 0., 0., 0., 0., 0., 0., 0.],\n",
              "        [0., 0., 1., 1., 0., 1., 0., 1., 0., 0.],\n",
              "        [0., 0., 0., 0., 0., 0., 0., 0., 0., 0.],\n",
              "        [0., 0., 1., 1., 0., 1., 0., 1., 0., 0.],\n",
              "        [0., 0., 0., 0., 0., 0., 0., 0., 0., 0.]],\n",
              "\n",
              "       [[0., 0., 0., 0., 0., 0., 0., 0., 0., 0.],\n",
              "        [0., 0., 0., 0., 0., 0., 0., 0., 0., 0.],\n",
              "        [0., 0., 0., 0., 0., 0., 0., 0., 0., 0.],\n",
              "        [0., 0., 0., 0., 0., 0., 0., 0., 0., 0.],\n",
              "        [0., 0., 0., 0., 0., 0., 0., 0., 0., 0.],\n",
              "        [0., 0., 0., 0., 0., 0., 0., 0., 0., 0.],\n",
              "        [0., 0., 0., 0., 0., 0., 0., 0., 0., 0.],\n",
              "        [0., 0., 0., 0., 0., 0., 0., 0., 0., 0.],\n",
              "        [0., 0., 0., 0., 0., 0., 0., 0., 0., 0.],\n",
              "        [0., 0., 0., 0., 0., 0., 0., 0., 0., 0.]],\n",
              "\n",
              "       [[0., 0., 1., 1., 0., 1., 0., 1., 0., 0.],\n",
              "        [0., 0., 0., 0., 0., 0., 0., 0., 0., 0.],\n",
              "        [0., 0., 1., 1., 0., 1., 0., 1., 0., 0.],\n",
              "        [0., 0., 0., 0., 0., 0., 0., 0., 0., 0.],\n",
              "        [0., 0., 1., 1., 0., 1., 0., 1., 0., 0.],\n",
              "        [0., 0., 0., 0., 0., 0., 0., 0., 0., 0.],\n",
              "        [0., 0., 1., 1., 0., 1., 0., 1., 0., 0.],\n",
              "        [0., 0., 0., 0., 0., 0., 0., 0., 0., 0.],\n",
              "        [0., 0., 1., 1., 0., 1., 0., 1., 0., 0.],\n",
              "        [0., 0., 0., 0., 0., 0., 0., 0., 0., 0.]],\n",
              "\n",
              "       [[0., 0., 0., 0., 0., 0., 0., 0., 0., 0.],\n",
              "        [0., 0., 0., 0., 0., 0., 0., 0., 0., 0.],\n",
              "        [0., 0., 0., 0., 0., 0., 0., 0., 0., 0.],\n",
              "        [0., 0., 0., 0., 0., 0., 0., 0., 0., 0.],\n",
              "        [0., 0., 0., 0., 0., 0., 0., 0., 0., 0.],\n",
              "        [0., 0., 0., 0., 0., 0., 0., 0., 0., 0.],\n",
              "        [0., 0., 0., 0., 0., 0., 0., 0., 0., 0.],\n",
              "        [0., 0., 0., 0., 0., 0., 0., 0., 0., 0.],\n",
              "        [0., 0., 0., 0., 0., 0., 0., 0., 0., 0.],\n",
              "        [0., 0., 0., 0., 0., 0., 0., 0., 0., 0.]],\n",
              "\n",
              "       [[0., 0., 1., 1., 0., 1., 0., 1., 0., 0.],\n",
              "        [0., 0., 0., 0., 0., 0., 0., 0., 0., 0.],\n",
              "        [0., 0., 1., 1., 0., 1., 0., 1., 0., 0.],\n",
              "        [0., 0., 0., 0., 0., 0., 0., 0., 0., 0.],\n",
              "        [0., 0., 1., 1., 0., 1., 0., 1., 0., 0.],\n",
              "        [0., 0., 0., 0., 0., 0., 0., 0., 0., 0.],\n",
              "        [0., 0., 1., 1., 0., 1., 0., 1., 0., 0.],\n",
              "        [0., 0., 0., 0., 0., 0., 0., 0., 0., 0.],\n",
              "        [0., 0., 1., 1., 0., 1., 0., 1., 0., 0.],\n",
              "        [0., 0., 0., 0., 0., 0., 0., 0., 0., 0.]],\n",
              "\n",
              "       [[0., 0., 0., 0., 0., 0., 0., 0., 0., 0.],\n",
              "        [0., 0., 0., 0., 0., 0., 0., 0., 0., 0.],\n",
              "        [0., 0., 0., 0., 0., 0., 0., 0., 0., 0.],\n",
              "        [0., 0., 0., 0., 0., 0., 0., 0., 0., 0.],\n",
              "        [0., 0., 0., 0., 0., 0., 0., 0., 0., 0.],\n",
              "        [0., 0., 0., 0., 0., 0., 0., 0., 0., 0.],\n",
              "        [0., 0., 0., 0., 0., 0., 0., 0., 0., 0.],\n",
              "        [0., 0., 0., 0., 0., 0., 0., 0., 0., 0.],\n",
              "        [0., 0., 0., 0., 0., 0., 0., 0., 0., 0.],\n",
              "        [0., 0., 0., 0., 0., 0., 0., 0., 0., 0.]],\n",
              "\n",
              "       [[0., 0., 1., 1., 0., 1., 0., 1., 0., 0.],\n",
              "        [0., 0., 0., 0., 0., 0., 0., 0., 0., 0.],\n",
              "        [0., 0., 1., 1., 0., 1., 0., 1., 0., 0.],\n",
              "        [0., 0., 0., 0., 0., 0., 0., 0., 0., 0.],\n",
              "        [0., 0., 1., 1., 0., 1., 0., 1., 0., 0.],\n",
              "        [0., 0., 0., 0., 0., 0., 0., 0., 0., 0.],\n",
              "        [0., 0., 1., 1., 0., 1., 0., 1., 0., 0.],\n",
              "        [0., 0., 0., 0., 0., 0., 0., 0., 0., 0.],\n",
              "        [0., 0., 1., 1., 0., 1., 0., 1., 0., 0.],\n",
              "        [0., 0., 0., 0., 0., 0., 0., 0., 0., 0.]]])"
            ]
          },
          "metadata": {},
          "execution_count": 32
        }
      ]
    },
    {
      "cell_type": "code",
      "source": [
        "generator = np.random.default_rng(2357)\n",
        "jim = np.round(generator.normal(loc=100, scale=5, size=(5,2,4)))\n",
        "\n",
        "blocks = np.array([\n",
        "    [[0,2],[1,3]],\n",
        "    [[1,2],[0,0]],\n",
        "    [[0,0],[1,2]],\n",
        "    [[1,1],[0,3]],\n",
        "    [[0,1],[1,0]]\n",
        "])\n",
        "\n",
        "pops = np.array([\n",
        "    [100, 105],\n",
        "    [110, 92],\n",
        "    [95, 99],\n",
        "    [89, 107],\n",
        "    [101, 98]\n",
        "])\n",
        "\n",
        "jim.shape, blocks.shape, pops.shape"
      ],
      "metadata": {
        "colab": {
          "base_uri": "https://localhost:8080/"
        },
        "id": "7l331Frzo35l",
        "outputId": "22a73dcd-64e2-4c4c-a58d-123715da8ee8"
      },
      "execution_count": null,
      "outputs": [
        {
          "output_type": "execute_result",
          "data": {
            "text/plain": [
              "((5, 2, 4), (5, 2, 2), (5, 2))"
            ]
          },
          "metadata": {},
          "execution_count": 2
        }
      ]
    },
    {
      "cell_type": "code",
      "source": [
        "pop = jim[0,:,:]\n",
        "block = blocks[0,:,:]\n",
        "print(pop.shape)\n",
        "print(block.shape)"
      ],
      "metadata": {
        "colab": {
          "base_uri": "https://localhost:8080/"
        },
        "id": "ypv_NAXWo3_e",
        "outputId": "faf3ff5b-cbc4-49db-dbeb-61c0bc9a4e80"
      },
      "execution_count": null,
      "outputs": [
        {
          "output_type": "stream",
          "name": "stdout",
          "text": [
            "(2, 4)\n",
            "(2, 2)\n"
          ]
        }
      ]
    },
    {
      "cell_type": "code",
      "source": [
        "year_idx = np.arange(5)[:,np.newaxis]\n",
        "year_idx.shape"
      ],
      "metadata": {
        "colab": {
          "base_uri": "https://localhost:8080/"
        },
        "id": "u_AhQjAeo4E2",
        "outputId": "a00c3c33-8880-49bd-f79d-83b9078798dc"
      },
      "execution_count": null,
      "outputs": [
        {
          "output_type": "execute_result",
          "data": {
            "text/plain": [
              "(5, 1)"
            ]
          },
          "metadata": {},
          "execution_count": 21
        }
      ]
    },
    {
      "cell_type": "code",
      "source": [
        "jim_filtered = jim[year_idx, blocks[:,:,0], blocks[:,:,1]]\n",
        "np.abs(pops - jim_filtered)/pops"
      ],
      "metadata": {
        "colab": {
          "base_uri": "https://localhost:8080/"
        },
        "id": "aOU9y0O9o4Jd",
        "outputId": "512bf22a-cafa-4f03-8a12-51f319a648ac"
      },
      "execution_count": null,
      "outputs": [
        {
          "output_type": "execute_result",
          "data": {
            "text/plain": [
              "array([[0.08      , 0.04761905],\n",
              "       [0.07272727, 0.13043478],\n",
              "       [0.07368421, 0.07070707],\n",
              "       [0.13483146, 0.04672897],\n",
              "       [0.        , 0.04081633]])"
            ]
          },
          "metadata": {},
          "execution_count": 26
        }
      ]
    },
    {
      "cell_type": "code",
      "source": [],
      "metadata": {
        "id": "ENpyYBM_o4N9"
      },
      "execution_count": null,
      "outputs": []
    },
    {
      "cell_type": "code",
      "source": [],
      "metadata": {
        "id": "N2a2iUVHo4Se"
      },
      "execution_count": null,
      "outputs": []
    },
    {
      "cell_type": "code",
      "source": [],
      "metadata": {
        "id": "O9IDoOZjo4XQ"
      },
      "execution_count": null,
      "outputs": []
    },
    {
      "cell_type": "code",
      "source": [
        "locs = np.array([\n",
        "    [0,0,0],\n",
        "    [1,1,2],\n",
        "    [0,0,0],\n",
        "    [2,1,3],\n",
        "    [5,5,4],\n",
        "    [5,0,0],\n",
        "    [5,0,0],\n",
        "    [0,0,0],\n",
        "    [2,1,3],\n",
        "    [1,3,1]\n",
        "])\n",
        "\n",
        "generator = np.random.default_rng(1010)\n",
        "weights = generator.normal(size=10)\n",
        "\n",
        "print(weights)"
      ],
      "metadata": {
        "colab": {
          "base_uri": "https://localhost:8080/"
        },
        "id": "uuRxCZG2W1cw",
        "outputId": "19a89163-673f-4460-c6f4-bdbb6ba5b5c1"
      },
      "execution_count": null,
      "outputs": [
        {
          "output_type": "stream",
          "name": "stdout",
          "text": [
            "[-1.69870017  0.53799701 -0.22561399 -1.09020894  0.55391264 -1.50115445\n",
            "  0.44545933  1.3448172  -1.12364327  0.21216015]\n"
          ]
        }
      ]
    },
    {
      "cell_type": "code",
      "source": [
        "order = np.argsort(weights)\n",
        "locs[order]"
      ],
      "metadata": {
        "colab": {
          "base_uri": "https://localhost:8080/"
        },
        "id": "w9EZU2npW3E-",
        "outputId": "faea643f-f8a8-4eca-cc17-5d80b5bbbdd4"
      },
      "execution_count": null,
      "outputs": [
        {
          "output_type": "execute_result",
          "data": {
            "text/plain": [
              "array([[0, 0, 0],\n",
              "       [5, 0, 0],\n",
              "       [2, 1, 3],\n",
              "       [2, 1, 3],\n",
              "       [0, 0, 0],\n",
              "       [1, 3, 1],\n",
              "       [5, 0, 0],\n",
              "       [1, 1, 2],\n",
              "       [5, 5, 4],\n",
              "       [0, 0, 0]])"
            ]
          },
          "metadata": {},
          "execution_count": 31
        }
      ]
    },
    {
      "cell_type": "code",
      "source": [
        "l, map = np.unique(locs, return_inverse=True, axis=0)"
      ],
      "metadata": {
        "id": "TTznOVV4W3Jh"
      },
      "execution_count": null,
      "outputs": []
    },
    {
      "cell_type": "code",
      "source": [
        "np.argsort(weights)"
      ],
      "metadata": {
        "colab": {
          "base_uri": "https://localhost:8080/"
        },
        "id": "GO0AGKxDW3Nn",
        "outputId": "59ef7eab-8827-4384-c15d-b0dab0df1595"
      },
      "execution_count": null,
      "outputs": [
        {
          "output_type": "execute_result",
          "data": {
            "text/plain": [
              "array([0, 5, 8, 3, 2, 9, 6, 1, 4, 7])"
            ]
          },
          "metadata": {},
          "execution_count": 11
        }
      ]
    },
    {
      "cell_type": "code",
      "source": [
        "foo = np.arange(3*2*4).reshape(3,2,4)\n",
        "foo[:,:,0]"
      ],
      "metadata": {
        "colab": {
          "base_uri": "https://localhost:8080/"
        },
        "id": "1A8nyVQ9W3Rn",
        "outputId": "9a8220ac-f326-4c0a-f1f7-5a1ce3ecf4ab"
      },
      "execution_count": null,
      "outputs": [
        {
          "output_type": "execute_result",
          "data": {
            "text/plain": [
              "array([[ 0,  4],\n",
              "       [ 8, 12],\n",
              "       [16, 20]])"
            ]
          },
          "metadata": {},
          "execution_count": 17
        }
      ]
    },
    {
      "cell_type": "code",
      "source": [
        "three = np.array([[0], [1], [2]])\n",
        "three.shape"
      ],
      "metadata": {
        "colab": {
          "base_uri": "https://localhost:8080/"
        },
        "id": "VGXQ8mc5W3VX",
        "outputId": "580eba94-e8af-4061-f2fc-b94ea0d8c144"
      },
      "execution_count": null,
      "outputs": [
        {
          "output_type": "execute_result",
          "data": {
            "text/plain": [
              "(3, 1)"
            ]
          },
          "metadata": {},
          "execution_count": 18
        }
      ]
    },
    {
      "cell_type": "code",
      "source": [],
      "metadata": {
        "id": "fAfbDYtuW3ZA"
      },
      "execution_count": null,
      "outputs": []
    },
    {
      "cell_type": "code",
      "source": [
        "generator = np.random.default_rng(123)\n",
        "ratings = np.round(generator.uniform(low=0.0, high=10.0, size=(10, 2)))\n",
        "ratings[[1,2,7,9], [0,0,0,0]] = np.nan\n",
        "\n",
        "print(ratings)"
      ],
      "metadata": {
        "colab": {
          "base_uri": "https://localhost:8080/"
        },
        "id": "xobZFzGtV_Vg",
        "outputId": "d4b7c737-5080-4204-916b-b456d335028a"
      },
      "execution_count": null,
      "outputs": [
        {
          "output_type": "stream",
          "name": "stdout",
          "text": [
            "[[ 7.  1.]\n",
            " [nan  2.]\n",
            " [nan  8.]\n",
            " [ 9.  3.]\n",
            " [ 8.  9.]\n",
            " [ 5.  2.]\n",
            " [ 8.  2.]\n",
            " [nan  6.]\n",
            " [ 9.  2.]\n",
            " [nan  5.]]\n"
          ]
        }
      ]
    },
    {
      "cell_type": "code",
      "source": [
        "cond = ~np.any(np.isnan(ratings), axis=1)\n",
        "np.where(~np.any(np.isnan(ratings), axis=1), ratings[:,0], ratings[:,1])"
      ],
      "metadata": {
        "colab": {
          "base_uri": "https://localhost:8080/"
        },
        "id": "_auULK9MV_s3",
        "outputId": "9485dafc-da80-4703-9975-c4367e340dc2"
      },
      "execution_count": null,
      "outputs": [
        {
          "output_type": "execute_result",
          "data": {
            "text/plain": [
              "array([7., 2., 8., 9., 8., 5., 8., 6., 9., 5.])"
            ]
          },
          "metadata": {},
          "execution_count": 27
        }
      ]
    },
    {
      "cell_type": "code",
      "source": [],
      "metadata": {
        "id": "FKkVrAH9V_-T"
      },
      "execution_count": null,
      "outputs": []
    },
    {
      "cell_type": "code",
      "source": [],
      "metadata": {
        "id": "NkU8g8pOWARe"
      },
      "execution_count": null,
      "outputs": []
    },
    {
      "cell_type": "code",
      "source": [
        "temp1 = np.random.randn(4,3)\n",
        "temp2 = np.random.randn(4,3)\n",
        "t = np.stack((temp1, temp2), axis=1)\n",
        "t.shape"
      ],
      "metadata": {
        "colab": {
          "base_uri": "https://localhost:8080/"
        },
        "id": "6zKcg_ujRsvj",
        "outputId": "a430479f-9373-4127-fcb4-64d98a136e41"
      },
      "execution_count": null,
      "outputs": [
        {
          "output_type": "execute_result",
          "data": {
            "text/plain": [
              "(4, 2, 3)"
            ]
          },
          "metadata": {},
          "execution_count": 22
        }
      ]
    },
    {
      "cell_type": "code",
      "source": [
        "np.any(np.isnan(temp), axis=1)"
      ],
      "metadata": {
        "colab": {
          "base_uri": "https://localhost:8080/"
        },
        "id": "HFjFuPUdRs10",
        "outputId": "db90af1b-a912-4956-9386-26d854a538a2"
      },
      "execution_count": null,
      "outputs": [
        {
          "output_type": "execute_result",
          "data": {
            "text/plain": [
              "array([False,  True, False, False])"
            ]
          },
          "metadata": {},
          "execution_count": 17
        }
      ]
    },
    {
      "cell_type": "code",
      "source": [
        "np.sum(temp, axis=0)"
      ],
      "metadata": {
        "colab": {
          "base_uri": "https://localhost:8080/"
        },
        "id": "9b-nUxyvRs6h",
        "outputId": "56312364-3564-4b0b-86ee-94d8d021f470"
      },
      "execution_count": null,
      "outputs": [
        {
          "output_type": "execute_result",
          "data": {
            "text/plain": [
              "array([-0.9780226 , -0.12819929,         nan])"
            ]
          },
          "metadata": {},
          "execution_count": 16
        }
      ]
    },
    {
      "cell_type": "code",
      "source": [],
      "metadata": {
        "id": "9OhvENStRs_B"
      },
      "execution_count": null,
      "outputs": []
    },
    {
      "cell_type": "code",
      "source": [],
      "metadata": {
        "id": "67OPWmWMRtDd"
      },
      "execution_count": null,
      "outputs": []
    },
    {
      "cell_type": "code",
      "source": [],
      "metadata": {
        "id": "hwxxi-4WRtIA"
      },
      "execution_count": null,
      "outputs": []
    },
    {
      "cell_type": "code",
      "source": [
        "generator = np.random.default_rng(1010)\n",
        "love_scores = np.round(generator.uniform(low=0, high=100, size=10), 2)\n",
        "\n",
        "print(love_scores)"
      ],
      "metadata": {
        "colab": {
          "base_uri": "https://localhost:8080/"
        },
        "id": "bMyvp7zo4XaS",
        "outputId": "a137e5f0-c8a4-4c29-c448-7fadcce0e0c3"
      },
      "execution_count": null,
      "outputs": [
        {
          "output_type": "stream",
          "name": "stdout",
          "text": [
            "[ 9.5  53.58 91.77 98.15 84.88 74.61 40.94 56.49  8.39 64.69]\n"
          ]
        }
      ]
    },
    {
      "cell_type": "code",
      "source": [
        "dist = np.abs(love_scores - love_scores[..., np.newaxis])\n",
        "plt.imshow(dist)"
      ],
      "metadata": {
        "colab": {
          "base_uri": "https://localhost:8080/",
          "height": 448
        },
        "id": "JlI9Ix7j_gfa",
        "outputId": "d8de73cf-bd47-4334-8283-e05fdf85ebee"
      },
      "execution_count": null,
      "outputs": [
        {
          "output_type": "execute_result",
          "data": {
            "text/plain": [
              "<matplotlib.image.AxesImage at 0x7d148d386890>"
            ]
          },
          "metadata": {},
          "execution_count": 24
        },
        {
          "output_type": "display_data",
          "data": {
            "text/plain": [
              "<Figure size 640x480 with 1 Axes>"
            ],
            "image/png": "[encoded data removed]"
          },
          "metadata": {}
        }
      ]
    },
    {
      "cell_type": "code",
      "source": [
        "generator = np.random.default_rng(80085)\n",
        "scores = np.round(generator.uniform(low=30, high=100, size=15))\n",
        "\n",
        "print(scores)"
      ],
      "metadata": {
        "colab": {
          "base_uri": "https://localhost:8080/"
        },
        "id": "h_OO6b8I_glR",
        "outputId": "c71d378b-57ef-4abd-b96e-a47bc5b13d86"
      },
      "execution_count": null,
      "outputs": [
        {
          "output_type": "stream",
          "name": "stdout",
          "text": [
            "[68. 36. 76. 57. 56. 54. 63. 64. 36. 88. 80. 82. 84. 76. 42.]\n"
          ]
        }
      ]
    },
    {
      "cell_type": "code",
      "source": [
        "mask = np.where(scores < 60)[0]\n",
        "scores[mask[:3]] = 0.0\n",
        "print(scores)"
      ],
      "metadata": {
        "colab": {
          "base_uri": "https://localhost:8080/"
        },
        "id": "1gUb4IlZ_gru",
        "outputId": "0c6e981d-c0a6-4b82-816a-ecfec42a323e"
      },
      "execution_count": null,
      "outputs": [
        {
          "output_type": "stream",
          "name": "stdout",
          "text": [
            "[68.  0. 76.  0.  0. 54. 63. 64. 36. 88. 80. 82. 84. 76. 42.]\n"
          ]
        }
      ]
    },
    {
      "cell_type": "code",
      "source": [
        "field = np.zeros(shape = (10, 10))\n",
        "values = np.random.randn(20)\n",
        "idxs = np.random.choice(np.arange(99), size=20, replace=False)\n",
        "field.ravel()[idxs] = values\n",
        "field"
      ],
      "metadata": {
        "colab": {
          "base_uri": "https://localhost:8080/"
        },
        "id": "tUPNuMej_gy9",
        "outputId": "34e539cc-3175-4f39-e47d-befbfbd49990"
      },
      "execution_count": null,
      "outputs": [
        {
          "output_type": "execute_result",
          "data": {
            "text/plain": [
              "array([[ 0.        ,  0.        ,  0.        ,  0.        ,  0.        ,\n",
              "         0.        ,  0.        ,  0.        ,  0.        ,  0.        ],\n",
              "       [ 1.50174454,  0.        ,  0.        ,  0.        ,  0.        ,\n",
              "         0.        ,  0.        ,  0.        ,  0.        ,  0.        ],\n",
              "       [ 0.        ,  0.        ,  0.        ,  0.        ,  0.        ,\n",
              "         0.        ,  0.        ,  0.        ,  0.10439197,  0.        ],\n",
              "       [ 0.        ,  1.15941507,  0.        ,  0.        ,  0.        ,\n",
              "         0.58958416,  0.        ,  0.        ,  0.        ,  0.        ],\n",
              "       [ 0.        ,  0.        ,  0.37861017,  0.        ,  0.        ,\n",
              "         0.        ,  0.        ,  0.        ,  0.        ,  0.        ],\n",
              "       [ 0.        ,  0.        ,  0.        , -1.72593461, -0.56900941,\n",
              "         0.        ,  0.        ,  0.        ,  0.        ,  0.        ],\n",
              "       [ 0.20179709,  0.        ,  0.        ,  0.        ,  0.98064252,\n",
              "         0.        ,  0.        ,  1.556602  ,  0.47915935, -0.51016596],\n",
              "       [ 0.        ,  0.        ,  0.        ,  0.        ,  0.        ,\n",
              "         0.02260188,  0.        ,  0.        ,  0.        ,  0.        ],\n",
              "       [ 0.        ,  0.        ,  0.        , -1.68995484,  0.        ,\n",
              "         0.        , -0.06294189,  2.3463176 ,  0.        ,  0.03292304],\n",
              "       [-0.2208171 ,  0.        ,  0.6675544 ,  0.        ,  0.        ,\n",
              "         0.        ,  0.        ,  0.        , -1.28152776,  0.        ]])"
            ]
          },
          "metadata": {},
          "execution_count": 39
        }
      ]
    },
    {
      "cell_type": "code",
      "source": [
        "A = np.array([3, 11, 4, 5])\n",
        "B = np.array([5, 0, 3])\n",
        "A = A[:, np.newaxis]\n",
        "A - B"
      ],
      "metadata": {
        "colab": {
          "base_uri": "https://localhost:8080/"
        },
        "id": "mFBCuPyvCxXl",
        "outputId": "327f4314-55fd-440c-89bb-e1321fd0d077"
      },
      "execution_count": null,
      "outputs": [
        {
          "output_type": "execute_result",
          "data": {
            "text/plain": [
              "array([[-2,  3,  0],\n",
              "       [ 6, 11,  8],\n",
              "       [-1,  4,  1],\n",
              "       [ 0,  5,  2]])"
            ]
          },
          "metadata": {},
          "execution_count": 9
        }
      ]
    },
    {
      "cell_type": "code",
      "source": [
        "a = np.arange(9)\n",
        "a"
      ],
      "metadata": {
        "colab": {
          "base_uri": "https://localhost:8080/"
        },
        "id": "wQM9OO94Cwoj",
        "outputId": "7ff21d46-1a92-4a43-c0ed-0e364bd35f89"
      },
      "execution_count": null,
      "outputs": [
        {
          "output_type": "execute_result",
          "data": {
            "text/plain": [
              "array([0, 1, 2, 3, 4, 5, 6, 7, 8])"
            ]
          },
          "metadata": {},
          "execution_count": 15
        }
      ]
    },
    {
      "cell_type": "code",
      "source": [
        "np.reshape(a, newshape=(3,3), order=\"F\")"
      ],
      "metadata": {
        "colab": {
          "base_uri": "https://localhost:8080/"
        },
        "id": "4SwD6FS0Cwt5",
        "outputId": "9b278877-50fc-4e7f-c23d-0898fe119873"
      },
      "execution_count": null,
      "outputs": [
        {
          "output_type": "execute_result",
          "data": {
            "text/plain": [
              "array([[0, 3, 6],\n",
              "       [1, 4, 7],\n",
              "       [2, 5, 8]])"
            ]
          },
          "metadata": {},
          "execution_count": 16
        }
      ]
    },
    {
      "cell_type": "code",
      "source": [
        "a"
      ],
      "metadata": {
        "colab": {
          "base_uri": "https://localhost:8080/"
        },
        "id": "OYtS6PhaCwyi",
        "outputId": "b13ae771-db6d-4e92-c373-264f91aadb35"
      },
      "execution_count": null,
      "outputs": [
        {
          "output_type": "execute_result",
          "data": {
            "text/plain": [
              "array([ 0,  1,  2,  3,  4,  5,  6,  7,  8,  9, 10, 11, 12, 13, 14, 15])"
            ]
          },
          "metadata": {},
          "execution_count": 14
        }
      ]
    },
    {
      "cell_type": "code",
      "source": [],
      "metadata": {
        "id": "ytqL7yOOCw4A"
      },
      "execution_count": null,
      "outputs": []
    },
    {
      "cell_type": "code",
      "source": [],
      "metadata": {
        "id": "0Zsbg_hXCw9F"
      },
      "execution_count": null,
      "outputs": []
    },
    {
      "cell_type": "code",
      "source": [
        "dailywts = 185 - np.arange(5*7)/5\n",
        "\n",
        "print(dailywts)"
      ],
      "metadata": {
        "colab": {
          "base_uri": "https://localhost:8080/"
        },
        "id": "WafJOf1vOhGh",
        "outputId": "921babb0-c90a-48ba-e75d-db0e8b9a0214"
      },
      "execution_count": null,
      "outputs": [
        {
          "output_type": "stream",
          "name": "stdout",
          "text": [
            "[185.  184.8 184.6 184.4 184.2 184.  183.8 183.6 183.4 183.2 183.  182.8\n",
            " 182.6 182.4 182.2 182.  181.8 181.6 181.4 181.2 181.  180.8 180.6 180.4\n",
            " 180.2 180.  179.8 179.6 179.4 179.2 179.  178.8 178.6 178.4 178.2]\n"
          ]
        }
      ]
    },
    {
      "cell_type": "code",
      "source": [
        "saturday_weights = dailywts[5::7]\n",
        "sunday_weights = dailywts[6::7]\n",
        "\n",
        "weekend_weight_avg = (saturday_weights+sunday_weights)/2.0\n",
        "print(weekend_weight_avg)"
      ],
      "metadata": {
        "colab": {
          "base_uri": "https://localhost:8080/"
        },
        "id": "Fh4vTwPNOhMS",
        "outputId": "329aad4b-c260-4bd9-d231-a59a9dbc8494"
      },
      "execution_count": null,
      "outputs": [
        {
          "output_type": "stream",
          "name": "stdout",
          "text": [
            "[183.9 182.5 181.1 179.7 178.3]\n"
          ]
        }
      ]
    },
    {
      "cell_type": "code",
      "source": [
        "temp = np.arange(1,2*4*7, 2).reshape(4,7) + np.array([0,2,4,6]).reshape(4,1)\n",
        "temp"
      ],
      "metadata": {
        "colab": {
          "base_uri": "https://localhost:8080/"
        },
        "id": "lt9FJiEiOhRi",
        "outputId": "bb2e5a2c-9d0b-4848-c434-a0a4b9f6fd3d"
      },
      "execution_count": null,
      "outputs": [
        {
          "output_type": "execute_result",
          "data": {
            "text/plain": [
              "array([[ 1,  3,  5,  7,  9, 11, 13],\n",
              "       [17, 19, 21, 23, 25, 27, 29],\n",
              "       [33, 35, 37, 39, 41, 43, 45],\n",
              "       [49, 51, 53, 55, 57, 59, 61]])"
            ]
          },
          "metadata": {},
          "execution_count": 7
        }
      ]
    },
    {
      "cell_type": "code",
      "source": [
        "np.random.seed(5555)\n",
        "gold = np.random.randint(low=0, high=10, size=(7,7))\n",
        "locs = np.array([\n",
        "    [0,4],\n",
        "    [2,2],\n",
        "    [2,3],\n",
        "    [5,1],\n",
        "    [6,3]\n",
        "])\n",
        "gold[locs[:,0], locs[:,1]].sum().item()"
      ],
      "metadata": {
        "colab": {
          "base_uri": "https://localhost:8080/"
        },
        "id": "OXftp3PnOhWe",
        "outputId": "4b5880c1-ea20-4522-b0b0-f83e0bed4dbd"
      },
      "execution_count": null,
      "outputs": [
        {
          "output_type": "execute_result",
          "data": {
            "text/plain": [
              "20"
            ]
          },
          "metadata": {},
          "execution_count": 11
        }
      ]
    },
    {
      "cell_type": "code",
      "source": [],
      "metadata": {
        "id": "u-rQrxuzOhbz"
      },
      "execution_count": null,
      "outputs": []
    },
    {
      "cell_type": "code",
      "source": [
        "prize_doors = np.array([\n",
        "    [1, 0, 2],\n",
        "    [0, 0, 1],\n",
        "    [3, 3, 1],\n",
        "    [1, 2, 0],\n",
        "    [2, 1, 1]\n",
        "])\n",
        "\n",
        "prizes = np.array([\n",
        "    [100, 150, 500],\n",
        "    [200, 300, 250],\n",
        "    [150, 100, 325],\n",
        "    [425, 200, 100],\n",
        "    [200, 250, 300]\n",
        "])"
      ],
      "metadata": {
        "id": "_8A-5Y1yG6A6"
      },
      "execution_count": null,
      "outputs": []
    },
    {
      "cell_type": "code",
      "source": [
        "prize_doors.shape, prizes.shape"
      ],
      "metadata": {
        "colab": {
          "base_uri": "https://localhost:8080/"
        },
        "id": "BamIECYOG6LA",
        "outputId": "e65be79f-b0bd-4ac2-fe52-0768f98ada76"
      },
      "execution_count": null,
      "outputs": [
        {
          "output_type": "execute_result",
          "data": {
            "text/plain": [
              "((5, 3), (5, 3))"
            ]
          },
          "metadata": {},
          "execution_count": 3
        }
      ]
    },
    {
      "cell_type": "code",
      "source": [
        "P = np.zeros((5,3,4))"
      ],
      "metadata": {
        "colab": {
          "base_uri": "https://localhost:8080/"
        },
        "id": "Zu-rmidRG6QC",
        "outputId": "9e0143f5-e705-4934-8a2f-7b4b490225b5"
      },
      "execution_count": null,
      "outputs": [
        {
          "output_type": "execute_result",
          "data": {
            "text/plain": [
              "(5, 3, 4)"
            ]
          },
          "metadata": {},
          "execution_count": 4
        }
      ]
    },
    {
      "cell_type": "code",
      "source": [
        "temp = prize_doors[..., np.newaxis]\n"
      ],
      "metadata": {
        "colab": {
          "base_uri": "https://localhost:8080/"
        },
        "id": "iyJnfCs_G6VN",
        "outputId": "fa3dd722-74dd-446d-a2fe-ee4af024e793"
      },
      "execution_count": null,
      "outputs": [
        {
          "output_type": "execute_result",
          "data": {
            "text/plain": [
              "1"
            ]
          },
          "metadata": {},
          "execution_count": 15
        }
      ]
    },
    {
      "cell_type": "code",
      "source": [
        "mask = np.array([1,3,2])\n",
        "idx = np.zeros((3,3))\n",
        "I = np.eye(3)\n",
        "idx[np.arange(3)] = I[mask-1]\n",
        "idx"
      ],
      "metadata": {
        "colab": {
          "base_uri": "https://localhost:8080/"
        },
        "id": "rwDs2Zw4vw7Z",
        "outputId": "7903a146-2542-49d7-ae10-364979665d6c"
      },
      "execution_count": null,
      "outputs": [
        {
          "output_type": "execute_result",
          "data": {
            "text/plain": [
              "array([[1., 0., 0.],\n",
              "       [0., 0., 1.],\n",
              "       [0., 1., 0.]])"
            ]
          },
          "metadata": {},
          "execution_count": 25
        }
      ]
    },
    {
      "cell_type": "code",
      "source": [
        "P = np.zeros((5*3, 4))\n",
        "I = np.eye(4)\n",
        "mask = prize_doors\n",
        "P[np.arange(5*3), :] = I[mask.ravel()]*prizes.ravel()[:,np.newaxis]\n",
        "P = P.reshape((5,3,4))\n",
        "P"
      ],
      "metadata": {
        "colab": {
          "base_uri": "https://localhost:8080/"
        },
        "id": "JDJwp-jDvxAn",
        "outputId": "3ae32b51-ce38-4a61-d364-1e1f3449b773"
      },
      "execution_count": null,
      "outputs": [
        {
          "output_type": "execute_result",
          "data": {
            "text/plain": [
              "array([[[  0., 100.,   0.,   0.],\n",
              "        [150.,   0.,   0.,   0.],\n",
              "        [  0.,   0., 500.,   0.]],\n",
              "\n",
              "       [[200.,   0.,   0.,   0.],\n",
              "        [300.,   0.,   0.,   0.],\n",
              "        [  0., 250.,   0.,   0.]],\n",
              "\n",
              "       [[  0.,   0.,   0., 150.],\n",
              "        [  0.,   0.,   0., 100.],\n",
              "        [  0., 325.,   0.,   0.]],\n",
              "\n",
              "       [[  0., 425.,   0.,   0.],\n",
              "        [  0.,   0., 200.,   0.],\n",
              "        [100.,   0.,   0.,   0.]],\n",
              "\n",
              "       [[  0.,   0., 200.,   0.],\n",
              "        [  0., 250.,   0.,   0.],\n",
              "        [  0., 300.,   0.,   0.]]])"
            ]
          },
          "metadata": {},
          "execution_count": 41
        }
      ]
    },
    {
      "cell_type": "code",
      "source": [
        "prize_doors.ravel()"
      ],
      "metadata": {
        "colab": {
          "base_uri": "https://localhost:8080/"
        },
        "id": "6thJjGw2vxF7",
        "outputId": "d7cf4667-2f12-415e-a699-b65e75ed1703"
      },
      "execution_count": null,
      "outputs": [
        {
          "output_type": "execute_result",
          "data": {
            "text/plain": [
              "array([1, 0, 2, 0, 0, 1, 3, 3, 1, 1, 2, 0, 2, 1, 1])"
            ]
          },
          "metadata": {},
          "execution_count": 31
        }
      ]
    },
    {
      "cell_type": "code",
      "source": [],
      "metadata": {
        "id": "0erdjufwvxK0"
      },
      "execution_count": null,
      "outputs": []
    },
    {
      "cell_type": "code",
      "source": [],
      "metadata": {
        "id": "gnvfQgEPvxPn"
      },
      "execution_count": null,
      "outputs": []
    },
    {
      "cell_type": "code",
      "source": [],
      "metadata": {
        "id": "c9U_zR6DvxUy"
      },
      "execution_count": null,
      "outputs": []
    },
    {
      "cell_type": "code",
      "source": [],
      "metadata": {
        "id": "GJj8ZSsXvxaE"
      },
      "execution_count": null,
      "outputs": []
    },
    {
      "cell_type": "code",
      "source": [
        "n = 10\n",
        "chewy = np.zeros((n, n, n))\n",
        "chewy[1::2, ::2, [2, 3, 5, 7]] = 1\n",
        "chewy"
      ],
      "metadata": {
        "colab": {
          "base_uri": "https://localhost:8080/"
        },
        "id": "w6qop9tcsxru",
        "outputId": "7797d9ff-456c-4913-ca24-2fe841680415"
      },
      "execution_count": null,
      "outputs": [
        {
          "output_type": "execute_result",
          "data": {
            "text/plain": [
              "array([[[0., 0., 0., 0., 0., 0., 0., 0., 0., 0.],\n",
              "        [0., 0., 0., 0., 0., 0., 0., 0., 0., 0.],\n",
              "        [0., 0., 0., 0., 0., 0., 0., 0., 0., 0.],\n",
              "        [0., 0., 0., 0., 0., 0., 0., 0., 0., 0.],\n",
              "        [0., 0., 0., 0., 0., 0., 0., 0., 0., 0.],\n",
              "        [0., 0., 0., 0., 0., 0., 0., 0., 0., 0.],\n",
              "        [0., 0., 0., 0., 0., 0., 0., 0., 0., 0.],\n",
              "        [0., 0., 0., 0., 0., 0., 0., 0., 0., 0.],\n",
              "        [0., 0., 0., 0., 0., 0., 0., 0., 0., 0.],\n",
              "        [0., 0., 0., 0., 0., 0., 0., 0., 0., 0.]],\n",
              "\n",
              "       [[0., 0., 1., 1., 0., 1., 0., 1., 0., 0.],\n",
              "        [0., 0., 0., 0., 0., 0., 0., 0., 0., 0.],\n",
              "        [0., 0., 1., 1., 0., 1., 0., 1., 0., 0.],\n",
              "        [0., 0., 0., 0., 0., 0., 0., 0., 0., 0.],\n",
              "        [0., 0., 1., 1., 0., 1., 0., 1., 0., 0.],\n",
              "        [0., 0., 0., 0., 0., 0., 0., 0., 0., 0.],\n",
              "        [0., 0., 1., 1., 0., 1., 0., 1., 0., 0.],\n",
              "        [0., 0., 0., 0., 0., 0., 0., 0., 0., 0.],\n",
              "        [0., 0., 1., 1., 0., 1., 0., 1., 0., 0.],\n",
              "        [0., 0., 0., 0., 0., 0., 0., 0., 0., 0.]],\n",
              "\n",
              "       [[0., 0., 0., 0., 0., 0., 0., 0., 0., 0.],\n",
              "        [0., 0., 0., 0., 0., 0., 0., 0., 0., 0.],\n",
              "        [0., 0., 0., 0., 0., 0., 0., 0., 0., 0.],\n",
              "        [0., 0., 0., 0., 0., 0., 0., 0., 0., 0.],\n",
              "        [0., 0., 0., 0., 0., 0., 0., 0., 0., 0.],\n",
              "        [0., 0., 0., 0., 0., 0., 0., 0., 0., 0.],\n",
              "        [0., 0., 0., 0., 0., 0., 0., 0., 0., 0.],\n",
              "        [0., 0., 0., 0., 0., 0., 0., 0., 0., 0.],\n",
              "        [0., 0., 0., 0., 0., 0., 0., 0., 0., 0.],\n",
              "        [0., 0., 0., 0., 0., 0., 0., 0., 0., 0.]],\n",
              "\n",
              "       [[0., 0., 1., 1., 0., 1., 0., 1., 0., 0.],\n",
              "        [0., 0., 0., 0., 0., 0., 0., 0., 0., 0.],\n",
              "        [0., 0., 1., 1., 0., 1., 0., 1., 0., 0.],\n",
              "        [0., 0., 0., 0., 0., 0., 0., 0., 0., 0.],\n",
              "        [0., 0., 1., 1., 0., 1., 0., 1., 0., 0.],\n",
              "        [0., 0., 0., 0., 0., 0., 0., 0., 0., 0.],\n",
              "        [0., 0., 1., 1., 0., 1., 0., 1., 0., 0.],\n",
              "        [0., 0., 0., 0., 0., 0., 0., 0., 0., 0.],\n",
              "        [0., 0., 1., 1., 0., 1., 0., 1., 0., 0.],\n",
              "        [0., 0., 0., 0., 0., 0., 0., 0., 0., 0.]],\n",
              "\n",
              "       [[0., 0., 0., 0., 0., 0., 0., 0., 0., 0.],\n",
              "        [0., 0., 0., 0., 0., 0., 0., 0., 0., 0.],\n",
              "        [0., 0., 0., 0., 0., 0., 0., 0., 0., 0.],\n",
              "        [0., 0., 0., 0., 0., 0., 0., 0., 0., 0.],\n",
              "        [0., 0., 0., 0., 0., 0., 0., 0., 0., 0.],\n",
              "        [0., 0., 0., 0., 0., 0., 0., 0., 0., 0.],\n",
              "        [0., 0., 0., 0., 0., 0., 0., 0., 0., 0.],\n",
              "        [0., 0., 0., 0., 0., 0., 0., 0., 0., 0.],\n",
              "        [0., 0., 0., 0., 0., 0., 0., 0., 0., 0.],\n",
              "        [0., 0., 0., 0., 0., 0., 0., 0., 0., 0.]],\n",
              "\n",
              "       [[0., 0., 1., 1., 0., 1., 0., 1., 0., 0.],\n",
              "        [0., 0., 0., 0., 0., 0., 0., 0., 0., 0.],\n",
              "        [0., 0., 1., 1., 0., 1., 0., 1., 0., 0.],\n",
              "        [0., 0., 0., 0., 0., 0., 0., 0., 0., 0.],\n",
              "        [0., 0., 1., 1., 0., 1., 0., 1., 0., 0.],\n",
              "        [0., 0., 0., 0., 0., 0., 0., 0., 0., 0.],\n",
              "        [0., 0., 1., 1., 0., 1., 0., 1., 0., 0.],\n",
              "        [0., 0., 0., 0., 0., 0., 0., 0., 0., 0.],\n",
              "        [0., 0., 1., 1., 0., 1., 0., 1., 0., 0.],\n",
              "        [0., 0., 0., 0., 0., 0., 0., 0., 0., 0.]],\n",
              "\n",
              "       [[0., 0., 0., 0., 0., 0., 0., 0., 0., 0.],\n",
              "        [0., 0., 0., 0., 0., 0., 0., 0., 0., 0.],\n",
              "        [0., 0., 0., 0., 0., 0., 0., 0., 0., 0.],\n",
              "        [0., 0., 0., 0., 0., 0., 0., 0., 0., 0.],\n",
              "        [0., 0., 0., 0., 0., 0., 0., 0., 0., 0.],\n",
              "        [0., 0., 0., 0., 0., 0., 0., 0., 0., 0.],\n",
              "        [0., 0., 0., 0., 0., 0., 0., 0., 0., 0.],\n",
              "        [0., 0., 0., 0., 0., 0., 0., 0., 0., 0.],\n",
              "        [0., 0., 0., 0., 0., 0., 0., 0., 0., 0.],\n",
              "        [0., 0., 0., 0., 0., 0., 0., 0., 0., 0.]],\n",
              "\n",
              "       [[0., 0., 1., 1., 0., 1., 0., 1., 0., 0.],\n",
              "        [0., 0., 0., 0., 0., 0., 0., 0., 0., 0.],\n",
              "        [0., 0., 1., 1., 0., 1., 0., 1., 0., 0.],\n",
              "        [0., 0., 0., 0., 0., 0., 0., 0., 0., 0.],\n",
              "        [0., 0., 1., 1., 0., 1., 0., 1., 0., 0.],\n",
              "        [0., 0., 0., 0., 0., 0., 0., 0., 0., 0.],\n",
              "        [0., 0., 1., 1., 0., 1., 0., 1., 0., 0.],\n",
              "        [0., 0., 0., 0., 0., 0., 0., 0., 0., 0.],\n",
              "        [0., 0., 1., 1., 0., 1., 0., 1., 0., 0.],\n",
              "        [0., 0., 0., 0., 0., 0., 0., 0., 0., 0.]],\n",
              "\n",
              "       [[0., 0., 0., 0., 0., 0., 0., 0., 0., 0.],\n",
              "        [0., 0., 0., 0., 0., 0., 0., 0., 0., 0.],\n",
              "        [0., 0., 0., 0., 0., 0., 0., 0., 0., 0.],\n",
              "        [0., 0., 0., 0., 0., 0., 0., 0., 0., 0.],\n",
              "        [0., 0., 0., 0., 0., 0., 0., 0., 0., 0.],\n",
              "        [0., 0., 0., 0., 0., 0., 0., 0., 0., 0.],\n",
              "        [0., 0., 0., 0., 0., 0., 0., 0., 0., 0.],\n",
              "        [0., 0., 0., 0., 0., 0., 0., 0., 0., 0.],\n",
              "        [0., 0., 0., 0., 0., 0., 0., 0., 0., 0.],\n",
              "        [0., 0., 0., 0., 0., 0., 0., 0., 0., 0.]],\n",
              "\n",
              "       [[0., 0., 1., 1., 0., 1., 0., 1., 0., 0.],\n",
              "        [0., 0., 0., 0., 0., 0., 0., 0., 0., 0.],\n",
              "        [0., 0., 1., 1., 0., 1., 0., 1., 0., 0.],\n",
              "        [0., 0., 0., 0., 0., 0., 0., 0., 0., 0.],\n",
              "        [0., 0., 1., 1., 0., 1., 0., 1., 0., 0.],\n",
              "        [0., 0., 0., 0., 0., 0., 0., 0., 0., 0.],\n",
              "        [0., 0., 1., 1., 0., 1., 0., 1., 0., 0.],\n",
              "        [0., 0., 0., 0., 0., 0., 0., 0., 0., 0.],\n",
              "        [0., 0., 1., 1., 0., 1., 0., 1., 0., 0.],\n",
              "        [0., 0., 0., 0., 0., 0., 0., 0., 0., 0.]]])"
            ]
          },
          "metadata": {},
          "execution_count": 38
        }
      ]
    },
    {
      "cell_type": "code",
      "source": [
        "generator = np.random.default_rng(2357)\n",
        "jim = np.round(generator.normal(loc=100, scale=5, size=(5,2,4)))\n",
        "\n",
        "print(jim)"
      ],
      "metadata": {
        "colab": {
          "base_uri": "https://localhost:8080/"
        },
        "id": "lHwfyyoiGtk_",
        "outputId": "1e290116-da84-48c2-d705-a9da086711dd"
      },
      "execution_count": null,
      "outputs": [
        {
          "output_type": "stream",
          "name": "stdout",
          "text": [
            "[[[106. 103.  92. 100.]\n",
            "  [ 94. 102.  94. 100.]]\n",
            "\n",
            " [[104.  96. 109.  96.]\n",
            "  [101. 104. 102.  92.]]\n",
            "\n",
            " [[102. 102. 108. 101.]\n",
            "  [ 91. 101. 106.  99.]]\n",
            "\n",
            " [[101.  98.  95. 102.]\n",
            "  [100. 101.  99.  93.]]\n",
            "\n",
            " [[107. 101. 104. 105.]\n",
            "  [102.  97. 101. 102.]]]\n"
          ]
        }
      ]
    },
    {
      "cell_type": "code",
      "source": [
        "blocks = np.array([\n",
        "    [[0,2],[1,3]],\n",
        "    [[1,2],[0,0]],\n",
        "    [[0,0],[1,2]],\n",
        "    [[1,1],[0,3]],\n",
        "    [[0,1],[1,0]]\n",
        "])\n",
        "\n",
        "pops = np.array([\n",
        "    [100, 105],\n",
        "    [110, 92],\n",
        "    [95, 99],\n",
        "    [89, 107],\n",
        "    [101, 98]\n",
        "])"
      ],
      "metadata": {
        "id": "mURZLIaUGtrB"
      },
      "execution_count": null,
      "outputs": []
    },
    {
      "cell_type": "code",
      "source": [
        "jim[0, [0,1], [2,3]]"
      ],
      "metadata": {
        "colab": {
          "base_uri": "https://localhost:8080/"
        },
        "id": "W7vU63h0jpTA",
        "outputId": "500bcfb3-21cf-453c-81a0-bb7133d2da7c"
      },
      "execution_count": null,
      "outputs": [
        {
          "output_type": "execute_result",
          "data": {
            "text/plain": [
              "array([ 92., 100.])"
            ]
          },
          "metadata": {},
          "execution_count": 17
        }
      ]
    },
    {
      "cell_type": "code",
      "source": [
        "t0 = np.arange(5).reshape(5,1)\n",
        "t1 = blocks[:,:,0]\n",
        "t2 = blocks[:,:,1]\n",
        "t0.shape, t1.shape, t2.shape"
      ],
      "metadata": {
        "colab": {
          "base_uri": "https://localhost:8080/"
        },
        "id": "QAUu0h7kjpM0",
        "outputId": "83dcca6f-581b-4dec-ce15-c690ee5f1ead"
      },
      "execution_count": null,
      "outputs": [
        {
          "output_type": "execute_result",
          "data": {
            "text/plain": [
              "((5, 1), (5, 2), (5, 2))"
            ]
          },
          "metadata": {},
          "execution_count": 31
        }
      ]
    },
    {
      "cell_type": "code",
      "source": [
        "jim_f = jim[t0, t1, t2]\n",
        "marker = (np.abs(jim_f-pops)/pops > 0.1).sum()\n",
        "marker"
      ],
      "metadata": {
        "colab": {
          "base_uri": "https://localhost:8080/"
        },
        "id": "16e7FZGNjpG1",
        "outputId": "e19ff384-9e28-4bdb-8bf9-33c506431625"
      },
      "execution_count": null,
      "outputs": [
        {
          "output_type": "execute_result",
          "data": {
            "text/plain": [
              "2"
            ]
          },
          "metadata": {},
          "execution_count": 34
        }
      ]
    },
    {
      "cell_type": "code",
      "source": [],
      "metadata": {
        "id": "0OZ8P5r8jo_6"
      },
      "execution_count": null,
      "outputs": []
    },
    {
      "cell_type": "code",
      "source": [
        "blocks.shape, pops.shape"
      ],
      "metadata": {
        "colab": {
          "base_uri": "https://localhost:8080/"
        },
        "id": "HFlmDgvJGtvr",
        "outputId": "dd52f2db-d026-464e-ef4b-5fee4dba8929"
      },
      "execution_count": null,
      "outputs": [
        {
          "output_type": "execute_result",
          "data": {
            "text/plain": [
              "((5, 2, 2), (5, 2))"
            ]
          },
          "metadata": {},
          "execution_count": 4
        }
      ]
    },
    {
      "cell_type": "code",
      "source": [
        "blocks[0,0]"
      ],
      "metadata": {
        "colab": {
          "base_uri": "https://localhost:8080/"
        },
        "id": "whfDI44pGt0E",
        "outputId": "6603fe15-e019-4aea-ee3f-a4751a1ab8ea"
      },
      "execution_count": null,
      "outputs": [
        {
          "output_type": "execute_result",
          "data": {
            "text/plain": [
              "array([0, 2])"
            ]
          },
          "metadata": {},
          "execution_count": 5
        }
      ]
    },
    {
      "cell_type": "code",
      "source": [
        "foo = np.arange(3*2*4).reshape(3,2,4)\n",
        "foo"
      ],
      "metadata": {
        "colab": {
          "base_uri": "https://localhost:8080/"
        },
        "id": "SwZcLKNRn5H8",
        "outputId": "5b72b28c-3670-4aa4-de89-c5e75bb21437"
      },
      "execution_count": null,
      "outputs": [
        {
          "output_type": "execute_result",
          "data": {
            "text/plain": [
              "array([[[ 0,  1,  2,  3],\n",
              "        [ 4,  5,  6,  7]],\n",
              "\n",
              "       [[ 8,  9, 10, 11],\n",
              "        [12, 13, 14, 15]],\n",
              "\n",
              "       [[16, 17, 18, 19],\n",
              "        [20, 21, 22, 23]]])"
            ]
          },
          "metadata": {},
          "execution_count": 13
        }
      ]
    },
    {
      "cell_type": "code",
      "source": [
        "temp1 = foo[:,:,0]\n",
        "temp1"
      ],
      "metadata": {
        "colab": {
          "base_uri": "https://localhost:8080/"
        },
        "id": "rTEUt3Yan5M9",
        "outputId": "4902d21c-3360-4ff6-c83c-66f5497602d2"
      },
      "execution_count": null,
      "outputs": [
        {
          "output_type": "execute_result",
          "data": {
            "text/plain": [
              "array([[ 0,  4],\n",
              "       [ 8, 12],\n",
              "       [16, 20]])"
            ]
          },
          "metadata": {},
          "execution_count": 16
        }
      ]
    },
    {
      "cell_type": "code",
      "source": [],
      "metadata": {
        "id": "ophUTKRjn5R6"
      },
      "execution_count": null,
      "outputs": []
    },
    {
      "cell_type": "code",
      "source": [],
      "metadata": {
        "id": "uiALCKLZn5XC"
      },
      "execution_count": null,
      "outputs": []
    },
    {
      "cell_type": "code",
      "source": [],
      "metadata": {
        "id": "mz5npGNYn5cm"
      },
      "execution_count": null,
      "outputs": []
    },
    {
      "cell_type": "code",
      "source": [
        "bar = np.arange(5, 61, 5).reshape(3,4)\n",
        "bar"
      ],
      "metadata": {
        "colab": {
          "base_uri": "https://localhost:8080/"
        },
        "id": "g2Ot4R09jicD",
        "outputId": "87719c5d-2623-4d07-8459-5819ed5f69b9"
      },
      "execution_count": null,
      "outputs": [
        {
          "output_type": "execute_result",
          "data": {
            "text/plain": [
              "array([[ 5, 10, 15, 20],\n",
              "       [25, 30, 35, 40],\n",
              "       [45, 50, 55, 60]])"
            ]
          },
          "metadata": {},
          "execution_count": 6
        }
      ]
    },
    {
      "cell_type": "code",
      "source": [
        "temp = np.arange(1,13).reshape(2,2,3)\n",
        "temp"
      ],
      "metadata": {
        "colab": {
          "base_uri": "https://localhost:8080/"
        },
        "id": "YM_OEL7hjihr",
        "outputId": "b14edca8-2cb5-45b5-e880-2edbf0193c1e"
      },
      "execution_count": null,
      "outputs": [
        {
          "output_type": "execute_result",
          "data": {
            "text/plain": [
              "array([[[ 1,  2,  3],\n",
              "        [ 4,  5,  6]],\n",
              "\n",
              "       [[ 7,  8,  9],\n",
              "        [10, 11, 12]]])"
            ]
          },
          "metadata": {},
          "execution_count": 9
        }
      ]
    },
    {
      "cell_type": "code",
      "source": [
        "temp[0,:,1]"
      ],
      "metadata": {
        "colab": {
          "base_uri": "https://localhost:8080/"
        },
        "id": "jllmxLVAjimK",
        "outputId": "e7936da8-c005-4c48-ec59-61cdbabc3b9e"
      },
      "execution_count": null,
      "outputs": [
        {
          "output_type": "execute_result",
          "data": {
            "text/plain": [
              "array([2, 5])"
            ]
          },
          "metadata": {},
          "execution_count": 12
        }
      ]
    },
    {
      "cell_type": "code",
      "source": [],
      "metadata": {
        "id": "0psG2dnRjiri"
      },
      "execution_count": null,
      "outputs": []
    },
    {
      "cell_type": "code",
      "source": [],
      "metadata": {
        "id": "LwPJ1NBLjivv"
      },
      "execution_count": null,
      "outputs": []
    },
    {
      "cell_type": "code",
      "source": [],
      "metadata": {
        "id": "gTsqYIApji0c"
      },
      "execution_count": null,
      "outputs": []
    },
    {
      "cell_type": "code",
      "source": [],
      "metadata": {
        "id": "QP3Uy0T0ji5H"
      },
      "execution_count": null,
      "outputs": []
    },
    {
      "cell_type": "code",
      "source": [
        "X = np.random.randint(0, 50, size=(4,3))\n",
        "X"
      ],
      "metadata": {
        "colab": {
          "base_uri": "https://localhost:8080/"
        },
        "id": "epH-89YeTQJg",
        "outputId": "ee7b671c-1fee-41d8-b33e-89ed532bb036"
      },
      "execution_count": null,
      "outputs": [
        {
          "output_type": "execute_result",
          "data": {
            "text/plain": [
              "array([[18, 48, 37],\n",
              "       [13,  3, 39],\n",
              "       [41, 24, 14],\n",
              "       [42, 38, 39]])"
            ]
          },
          "metadata": {},
          "execution_count": 2
        }
      ]
    },
    {
      "cell_type": "code",
      "source": [
        "first_row = X[0]\n",
        "first_row += 10\n",
        "X"
      ],
      "metadata": {
        "colab": {
          "base_uri": "https://localhost:8080/"
        },
        "id": "DBnbad2TO3AM",
        "outputId": "88e80802-b774-468b-8e53-f2ba0616b651"
      },
      "execution_count": null,
      "outputs": [
        {
          "output_type": "execute_result",
          "data": {
            "text/plain": [
              "array([[28, 58, 47],\n",
              "       [13,  3, 39],\n",
              "       [41, 24, 14],\n",
              "       [42, 38, 39]])"
            ]
          },
          "metadata": {},
          "execution_count": 3
        }
      ]
    },
    {
      "cell_type": "code",
      "source": [
        "x = X[1:]\n",
        "x += 10\n",
        "X"
      ],
      "metadata": {
        "colab": {
          "base_uri": "https://localhost:8080/"
        },
        "id": "uqrjStN9O27k",
        "outputId": "b5f3c68d-f47e-45a3-b984-93092174dba2"
      },
      "execution_count": null,
      "outputs": [
        {
          "output_type": "execute_result",
          "data": {
            "text/plain": [
              "array([[28, 58, 47],\n",
              "       [23, 13, 49],\n",
              "       [51, 34, 24],\n",
              "       [52, 48, 49]])"
            ]
          },
          "metadata": {},
          "execution_count": 4
        }
      ]
    },
    {
      "cell_type": "code",
      "source": [
        "x = X[1:3]\n",
        "x += 10\n",
        "X"
      ],
      "metadata": {
        "colab": {
          "base_uri": "https://localhost:8080/"
        },
        "id": "VyzbVqBqO23F",
        "outputId": "ff1a0ff3-1912-45a3-8ef4-5149ae40eddb"
      },
      "execution_count": null,
      "outputs": [
        {
          "output_type": "execute_result",
          "data": {
            "text/plain": [
              "array([[28, 58, 47],\n",
              "       [33, 23, 59],\n",
              "       [61, 44, 34],\n",
              "       [52, 48, 49]])"
            ]
          },
          "metadata": {},
          "execution_count": 5
        }
      ]
    },
    {
      "cell_type": "code",
      "source": [],
      "metadata": {
        "id": "EMVRqerdO2yM"
      },
      "execution_count": null,
      "outputs": []
    },
    {
      "cell_type": "code",
      "source": [],
      "metadata": {
        "id": "ZASKCcLQO2to"
      },
      "execution_count": null,
      "outputs": []
    },
    {
      "cell_type": "code",
      "source": [],
      "metadata": {
        "id": "_XDLuOn9O2ol"
      },
      "execution_count": null,
      "outputs": []
    },
    {
      "cell_type": "code",
      "source": [],
      "metadata": {
        "id": "ciWMBGKTO2i3"
      },
      "execution_count": null,
      "outputs": []
    },
    {
      "cell_type": "code",
      "source": [
        "X[[[0,1]]].shape"
      ],
      "metadata": {
        "colab": {
          "base_uri": "https://localhost:8080/"
        },
        "id": "K43t9QwnTUHJ",
        "outputId": "870be120-1850-4954-d3cc-9a82b380df22"
      },
      "execution_count": null,
      "outputs": [
        {
          "output_type": "execute_result",
          "data": {
            "text/plain": [
              "(1, 2, 3)"
            ]
          },
          "metadata": {},
          "execution_count": 33
        }
      ]
    },
    {
      "cell_type": "code",
      "source": [
        "a = np.array([0,1])\n",
        "b = np.array([0,1,2])\n",
        "a + b"
      ],
      "metadata": {
        "colab": {
          "base_uri": "https://localhost:8080/",
          "height": 214
        },
        "id": "VpwrZytuTULg",
        "outputId": "0b385b3e-ce14-4315-87ca-40b0136fcc42"
      },
      "execution_count": null,
      "outputs": [
        {
          "output_type": "error",
          "ename": "ValueError",
          "evalue": "operands could not be broadcast together with shapes (2,) (3,) ",
          "traceback": [
            "\u001b[0;31m---------------------------------------------------------------------------\u001b[0m",
            "\u001b[0;31mValueError\u001b[0m                                Traceback (most recent call last)",
            "\u001b[0;32m<ipython-input-32-4a71ff92deb3>\u001b[0m in \u001b[0;36m<cell line: 3>\u001b[0;34m()\u001b[0m\n\u001b[1;32m      1\u001b[0m \u001b[0ma\u001b[0m \u001b[0;34m=\u001b[0m \u001b[0mnp\u001b[0m\u001b[0;34m.\u001b[0m\u001b[0marray\u001b[0m\u001b[0;34m(\u001b[0m\u001b[0;34m[\u001b[0m\u001b[0;36m0\u001b[0m\u001b[0;34m,\u001b[0m\u001b[0;36m1\u001b[0m\u001b[0;34m]\u001b[0m\u001b[0;34m)\u001b[0m\u001b[0;34m\u001b[0m\u001b[0;34m\u001b[0m\u001b[0m\n\u001b[1;32m      2\u001b[0m \u001b[0mb\u001b[0m \u001b[0;34m=\u001b[0m \u001b[0mnp\u001b[0m\u001b[0;34m.\u001b[0m\u001b[0marray\u001b[0m\u001b[0;34m(\u001b[0m\u001b[0;34m[\u001b[0m\u001b[0;36m0\u001b[0m\u001b[0;34m,\u001b[0m\u001b[0;36m1\u001b[0m\u001b[0;34m,\u001b[0m\u001b[0;36m2\u001b[0m\u001b[0;34m]\u001b[0m\u001b[0;34m)\u001b[0m\u001b[0;34m\u001b[0m\u001b[0;34m\u001b[0m\u001b[0m\n\u001b[0;32m----> 3\u001b[0;31m \u001b[0ma\u001b[0m \u001b[0;34m+\u001b[0m \u001b[0mb\u001b[0m\u001b[0;34m\u001b[0m\u001b[0;34m\u001b[0m\u001b[0m\n\u001b[0m",
            "\u001b[0;31mValueError\u001b[0m: operands could not be broadcast together with shapes (2,) (3,) "
          ]
        }
      ]
    },
    {
      "cell_type": "code",
      "source": [
        "x[[1,2],[2,1]]"
      ],
      "metadata": {
        "colab": {
          "base_uri": "https://localhost:8080/"
        },
        "id": "boZuuLz9TUQr",
        "outputId": "7c18440b-3aca-4d60-8f86-78ad080f9552"
      },
      "execution_count": null,
      "outputs": [
        {
          "output_type": "execute_result",
          "data": {
            "text/plain": [
              "array([5, 7])"
            ]
          },
          "metadata": {},
          "execution_count": 7
        }
      ]
    },
    {
      "cell_type": "code",
      "source": [
        "ind = np.array([[2, 1],\n",
        "                [0, 1]])\n",
        "ind.shape"
      ],
      "metadata": {
        "colab": {
          "base_uri": "https://localhost:8080/"
        },
        "id": "iXm8VpeiTUVd",
        "outputId": "48f7e42d-75ba-41da-927b-326a43e68789"
      },
      "execution_count": null,
      "outputs": [
        {
          "output_type": "execute_result",
          "data": {
            "text/plain": [
              "(2, 2)"
            ]
          },
          "metadata": {},
          "execution_count": 17
        }
      ]
    },
    {
      "cell_type": "code",
      "source": [
        "x[ind]"
      ],
      "metadata": {
        "colab": {
          "base_uri": "https://localhost:8080/"
        },
        "id": "uuBjGd5xTUaM",
        "outputId": "19ae7006-93f7-475a-c807-06ddac68d640"
      },
      "execution_count": null,
      "outputs": [
        {
          "output_type": "execute_result",
          "data": {
            "text/plain": [
              "array([[71, 86],\n",
              "       [60, 20]])"
            ]
          },
          "metadata": {},
          "execution_count": 12
        }
      ]
    },
    {
      "cell_type": "code",
      "source": [
        "X = np.arange(12).reshape((3, 4))\n",
        "X"
      ],
      "metadata": {
        "colab": {
          "base_uri": "https://localhost:8080/"
        },
        "id": "vlpuDgxFTUfa",
        "outputId": "3b493a60-e577-41d7-c16e-98ef88b62259"
      },
      "execution_count": null,
      "outputs": [
        {
          "output_type": "execute_result",
          "data": {
            "text/plain": [
              "array([[ 0,  1,  2,  3],\n",
              "       [ 4,  5,  6,  7],\n",
              "       [ 8,  9, 10, 11]])"
            ]
          },
          "metadata": {},
          "execution_count": 13
        }
      ]
    },
    {
      "cell_type": "code",
      "source": [
        "row = np.array([0, 1, 2])\n",
        "col = np.array([2, 1, 3])\n",
        "X[row, col]"
      ],
      "metadata": {
        "colab": {
          "base_uri": "https://localhost:8080/"
        },
        "id": "vGXR9bjzUdVq",
        "outputId": "40441ebc-e284-43bf-caee-eefcbbd1dded"
      },
      "execution_count": null,
      "outputs": [
        {
          "output_type": "execute_result",
          "data": {
            "text/plain": [
              "array([ 2,  5, 11])"
            ]
          },
          "metadata": {},
          "execution_count": 19
        }
      ]
    },
    {
      "cell_type": "code",
      "source": [
        "row_col = np.array([[0, 1, 2], [2,1,2]])\n",
        "row_col.shape"
      ],
      "metadata": {
        "colab": {
          "base_uri": "https://localhost:8080/"
        },
        "id": "CS94pTi2Uda6",
        "outputId": "6f48f4e8-697d-4f05-a9ee-a0b649c3393d"
      },
      "execution_count": null,
      "outputs": [
        {
          "output_type": "execute_result",
          "data": {
            "text/plain": [
              "(2, 3)"
            ]
          },
          "metadata": {},
          "execution_count": 23
        }
      ]
    },
    {
      "cell_type": "code",
      "source": [
        "X[row_col].shape"
      ],
      "metadata": {
        "colab": {
          "base_uri": "https://localhost:8080/"
        },
        "id": "Ts49S2UwUdfp",
        "outputId": "dc1871c7-5cf1-4d1d-ecda-eeef9fffdc99"
      },
      "execution_count": null,
      "outputs": [
        {
          "output_type": "execute_result",
          "data": {
            "text/plain": [
              "(2, 3, 4)"
            ]
          },
          "metadata": {},
          "execution_count": 25
        }
      ]
    },
    {
      "cell_type": "code",
      "source": [],
      "metadata": {
        "id": "VKCrS_38Udjy"
      },
      "execution_count": null,
      "outputs": []
    },
    {
      "cell_type": "code",
      "source": [],
      "metadata": {
        "id": "WxG6YxH5Udoe"
      },
      "execution_count": null,
      "outputs": []
    },
    {
      "cell_type": "code",
      "source": [],
      "metadata": {
        "id": "-ywYEQrTUdsk"
      },
      "execution_count": null,
      "outputs": []
    },
    {
      "cell_type": "code",
      "source": [],
      "metadata": {
        "id": "L1jWR3A0Udwv"
      },
      "execution_count": null,
      "outputs": []
    },
    {
      "cell_type": "code",
      "source": [],
      "metadata": {
        "id": "tRuhjVOdUd1e"
      },
      "execution_count": null,
      "outputs": []
    },
    {
      "cell_type": "code",
      "source": [
        "foo = np.arange(3*4*2).reshape(3,4,2)\n",
        "foo.shape"
      ],
      "metadata": {
        "colab": {
          "base_uri": "https://localhost:8080/"
        },
        "id": "53FwQq87vhpt",
        "outputId": "32433163-63eb-43a5-a9de-de8413c46bd7"
      },
      "execution_count": null,
      "outputs": [
        {
          "output_type": "execute_result",
          "data": {
            "text/plain": [
              "(3, 4, 2)"
            ]
          },
          "metadata": {},
          "execution_count": 19
        }
      ]
    },
    {
      "cell_type": "code",
      "source": [
        "generator = np.random.default_rng(2357)\n",
        "jim = np.round(generator.normal(loc=100, scale=5, size=(5,2,4)))"
      ],
      "metadata": {
        "id": "xAmoER5v3R27"
      },
      "execution_count": null,
      "outputs": []
    },
    {
      "cell_type": "code",
      "source": [
        "temp = np.arange(9).reshape(3,3)\n",
        "temp"
      ],
      "metadata": {
        "colab": {
          "base_uri": "https://localhost:8080/"
        },
        "id": "WhHIuWpG43Cs",
        "outputId": "75b31a46-bca7-4909-8a33-3dc634675f38"
      },
      "execution_count": null,
      "outputs": [
        {
          "output_type": "execute_result",
          "data": {
            "text/plain": [
              "array([[0, 1, 2],\n",
              "       [3, 4, 5],\n",
              "       [6, 7, 8]])"
            ]
          },
          "metadata": {},
          "execution_count": 25
        }
      ]
    },
    {
      "cell_type": "code",
      "source": [
        "temp[[1,2],[0,0]]"
      ],
      "metadata": {
        "colab": {
          "base_uri": "https://localhost:8080/"
        },
        "id": "VAojf09b4-la",
        "outputId": "a6d99f3d-7132-411e-8679-366dbc0ed846"
      },
      "execution_count": null,
      "outputs": [
        {
          "output_type": "execute_result",
          "data": {
            "text/plain": [
              "array([3, 6])"
            ]
          },
          "metadata": {},
          "execution_count": 26
        }
      ]
    },
    {
      "cell_type": "code",
      "source": [
        "blocks = np.array([\n",
        "    [[0,2],[1,3]],\n",
        "    [[1,2],[0,0]],\n",
        "    [[0,0],[1,2]],\n",
        "    [[1,1],[0,3]],\n",
        "    [[0,1],[1,0]]\n",
        "])\n",
        "\n",
        "pops = np.array([\n",
        "    [100, 105],\n",
        "    [110, 92],\n",
        "    [95, 99],\n",
        "    [89, 107],\n",
        "    [101, 98]\n",
        "])"
      ],
      "metadata": {
        "id": "9Jhdnva-vojL"
      },
      "execution_count": null,
      "outputs": []
    },
    {
      "cell_type": "code",
      "source": [
        "jim"
      ],
      "metadata": {
        "colab": {
          "base_uri": "https://localhost:8080/"
        },
        "id": "x2-YXWqtvonu",
        "outputId": "0bc2ecf7-4ff9-4379-83b8-bab86886413d"
      },
      "execution_count": null,
      "outputs": [
        {
          "output_type": "execute_result",
          "data": {
            "text/plain": [
              "array([[[106., 103.,  92., 100.],\n",
              "        [ 94., 102.,  94., 100.]],\n",
              "\n",
              "       [[104.,  96., 109.,  96.],\n",
              "        [101., 104., 102.,  92.]],\n",
              "\n",
              "       [[102., 102., 108., 101.],\n",
              "        [ 91., 101., 106.,  99.]],\n",
              "\n",
              "       [[101.,  98.,  95., 102.],\n",
              "        [100., 101.,  99.,  93.]],\n",
              "\n",
              "       [[107., 101., 104., 105.],\n",
              "        [102.,  97., 101., 102.]]])"
            ]
          },
          "metadata": {},
          "execution_count": 22
        }
      ]
    },
    {
      "cell_type": "code",
      "source": [
        "jim[0,:,:][[0,2], [1,3]]"
      ],
      "metadata": {
        "colab": {
          "base_uri": "https://localhost:8080/",
          "height": 179
        },
        "id": "OPnvSWij330v",
        "outputId": "c2b0f35f-8801-4344-ef12-ffe824538d18"
      },
      "execution_count": null,
      "outputs": [
        {
          "output_type": "error",
          "ename": "IndexError",
          "evalue": "index 2 is out of bounds for axis 0 with size 2",
          "traceback": [
            "\u001b[0;31m---------------------------------------------------------------------------\u001b[0m",
            "\u001b[0;31mIndexError\u001b[0m                                Traceback (most recent call last)",
            "\u001b[0;32m<ipython-input-24-1f298670d4fc>\u001b[0m in \u001b[0;36m<cell line: 1>\u001b[0;34m()\u001b[0m\n\u001b[0;32m----> 1\u001b[0;31m \u001b[0mjim\u001b[0m\u001b[0;34m[\u001b[0m\u001b[0;36m0\u001b[0m\u001b[0;34m,\u001b[0m\u001b[0;34m:\u001b[0m\u001b[0;34m,\u001b[0m\u001b[0;34m:\u001b[0m\u001b[0;34m]\u001b[0m\u001b[0;34m[\u001b[0m\u001b[0;34m[\u001b[0m\u001b[0;36m0\u001b[0m\u001b[0;34m,\u001b[0m\u001b[0;36m2\u001b[0m\u001b[0;34m]\u001b[0m\u001b[0;34m,\u001b[0m \u001b[0;34m[\u001b[0m\u001b[0;36m1\u001b[0m\u001b[0;34m,\u001b[0m\u001b[0;36m3\u001b[0m\u001b[0;34m]\u001b[0m\u001b[0;34m]\u001b[0m\u001b[0;34m\u001b[0m\u001b[0;34m\u001b[0m\u001b[0m\n\u001b[0m",
            "\u001b[0;31mIndexError\u001b[0m: index 2 is out of bounds for axis 0 with size 2"
          ]
        }
      ]
    },
    {
      "cell_type": "code",
      "source": [],
      "metadata": {
        "id": "6UEe4mQ2336U"
      },
      "execution_count": null,
      "outputs": []
    },
    {
      "cell_type": "code",
      "source": [],
      "metadata": {
        "id": "4GxcLhOr34AS"
      },
      "execution_count": null,
      "outputs": []
    },
    {
      "cell_type": "code",
      "source": [],
      "metadata": {
        "id": "U54y9zJZ34F1"
      },
      "execution_count": null,
      "outputs": []
    },
    {
      "cell_type": "code",
      "source": [
        "foo[ [[0,2], [2,0], [1,1]],\n",
        "     [[0,0], [0,0], [1,1]],\n",
        "     [[0,1], [0,2], [0,3]]\n",
        "]"
      ],
      "metadata": {
        "colab": {
          "base_uri": "https://localhost:8080/",
          "height": 232
        },
        "id": "V4CsSJQnvosm",
        "outputId": "3ff1991d-ca4d-41c4-8ec0-94d55f2ae612"
      },
      "execution_count": null,
      "outputs": [
        {
          "output_type": "error",
          "ename": "IndexError",
          "evalue": "index 2 is out of bounds for axis 2 with size 2",
          "traceback": [
            "\u001b[0;31m---------------------------------------------------------------------------\u001b[0m",
            "\u001b[0;31mIndexError\u001b[0m                                Traceback (most recent call last)",
            "\u001b[0;32m<ipython-input-7-abc607a97d0c>\u001b[0m in \u001b[0;36m<cell line: 1>\u001b[0;34m()\u001b[0m\n\u001b[0;32m----> 1\u001b[0;31m foo[ [[0,2], [2,0], [1,1]],\n\u001b[0m\u001b[1;32m      2\u001b[0m      \u001b[0;34m[\u001b[0m\u001b[0;34m[\u001b[0m\u001b[0;36m0\u001b[0m\u001b[0;34m,\u001b[0m\u001b[0;36m0\u001b[0m\u001b[0;34m]\u001b[0m\u001b[0;34m,\u001b[0m \u001b[0;34m[\u001b[0m\u001b[0;36m0\u001b[0m\u001b[0;34m,\u001b[0m\u001b[0;36m0\u001b[0m\u001b[0;34m]\u001b[0m\u001b[0;34m,\u001b[0m \u001b[0;34m[\u001b[0m\u001b[0;36m1\u001b[0m\u001b[0;34m,\u001b[0m\u001b[0;36m1\u001b[0m\u001b[0;34m]\u001b[0m\u001b[0;34m]\u001b[0m\u001b[0;34m,\u001b[0m\u001b[0;34m\u001b[0m\u001b[0;34m\u001b[0m\u001b[0m\n\u001b[1;32m      3\u001b[0m      \u001b[0;34m[\u001b[0m\u001b[0;34m[\u001b[0m\u001b[0;36m0\u001b[0m\u001b[0;34m,\u001b[0m\u001b[0;36m1\u001b[0m\u001b[0;34m]\u001b[0m\u001b[0;34m,\u001b[0m \u001b[0;34m[\u001b[0m\u001b[0;36m0\u001b[0m\u001b[0;34m,\u001b[0m\u001b[0;36m2\u001b[0m\u001b[0;34m]\u001b[0m\u001b[0;34m,\u001b[0m \u001b[0;34m[\u001b[0m\u001b[0;36m0\u001b[0m\u001b[0;34m,\u001b[0m\u001b[0;36m3\u001b[0m\u001b[0;34m]\u001b[0m\u001b[0;34m]\u001b[0m\u001b[0;34m\u001b[0m\u001b[0;34m\u001b[0m\u001b[0m\n\u001b[1;32m      4\u001b[0m ]\n",
            "\u001b[0;31mIndexError\u001b[0m: index 2 is out of bounds for axis 2 with size 2"
          ]
        }
      ]
    },
    {
      "cell_type": "code",
      "source": [
        "foo[[[0,2]]]"
      ],
      "metadata": {
        "colab": {
          "base_uri": "https://localhost:8080/"
        },
        "id": "cjGAvGVyvoxT",
        "outputId": "b45a411b-4303-49f4-d525-d729738f3049"
      },
      "execution_count": null,
      "outputs": [
        {
          "output_type": "execute_result",
          "data": {
            "text/plain": [
              "array([[[[ 0,  1],\n",
              "         [ 2,  3],\n",
              "         [ 4,  5],\n",
              "         [ 6,  7]],\n",
              "\n",
              "        [[16, 17],\n",
              "         [18, 19],\n",
              "         [20, 21],\n",
              "         [22, 23]]]])"
            ]
          },
          "metadata": {},
          "execution_count": 8
        }
      ]
    },
    {
      "cell_type": "code",
      "source": [],
      "metadata": {
        "id": "7MEWwgOMvo1e"
      },
      "execution_count": null,
      "outputs": []
    },
    {
      "cell_type": "code",
      "source": [],
      "metadata": {
        "id": "wXOX2F4Qvo5x"
      },
      "execution_count": null,
      "outputs": []
    },
    {
      "cell_type": "code",
      "source": [],
      "metadata": {
        "id": "ElDoLXVIvo99"
      },
      "execution_count": null,
      "outputs": []
    },
    {
      "cell_type": "code",
      "source": [],
      "metadata": {
        "id": "2R40kCLYvpCw"
      },
      "execution_count": null,
      "outputs": []
    },
    {
      "cell_type": "code",
      "source": [
        "generator = np.random.default_rng(999)\n",
        "schedules = generator.integers(low=0, high=5, size=(1000, 21))\n",
        "schedules.shape"
      ],
      "metadata": {
        "colab": {
          "base_uri": "https://localhost:8080/"
        },
        "id": "DobLTgRfbgrr",
        "outputId": "aa0c7616-179c-4b38-d893-d33f3a9c74f8"
      },
      "execution_count": null,
      "outputs": [
        {
          "output_type": "execute_result",
          "data": {
            "text/plain": [
              "(1000, 21)"
            ]
          },
          "metadata": {},
          "execution_count": 32
        }
      ]
    },
    {
      "cell_type": "code",
      "source": [
        "changes = np.diff(schedules, axis=-1)\n",
        "valid_ind = np.all(changes, axis=-1)\n",
        "valid = schedules[valid_ind]\n",
        "valid.shape"
      ],
      "metadata": {
        "colab": {
          "base_uri": "https://localhost:8080/"
        },
        "id": "Pd5FRZv-bgxZ",
        "outputId": "65c410fa-070b-4a8f-ae29-cb990f13597d"
      },
      "execution_count": null,
      "outputs": [
        {
          "output_type": "execute_result",
          "data": {
            "text/plain": [
              "(10, 21)"
            ]
          },
          "metadata": {},
          "execution_count": 40
        }
      ]
    },
    {
      "cell_type": "code",
      "source": [
        "valid"
      ],
      "metadata": {
        "colab": {
          "base_uri": "https://localhost:8080/"
        },
        "id": "rXnJF6Yjbg16",
        "outputId": "943e9a94-4877-476e-af86-73a8c66e3ab9"
      },
      "execution_count": null,
      "outputs": [
        {
          "output_type": "execute_result",
          "data": {
            "text/plain": [
              "array([[1, 4, 1, 4, 2, 4, 3, 4, 0, 1, 2, 3, 0, 3, 1, 2, 1, 2, 0, 4, 0],\n",
              "       [0, 4, 3, 0, 4, 3, 0, 4, 3, 4, 1, 2, 4, 0, 1, 4, 1, 0, 3, 2, 0],\n",
              "       [2, 4, 0, 1, 0, 2, 1, 2, 4, 1, 3, 1, 0, 2, 0, 3, 0, 3, 0, 2, 1],\n",
              "       [0, 3, 1, 4, 2, 1, 4, 2, 4, 1, 0, 4, 1, 0, 4, 2, 4, 3, 0, 3, 1],\n",
              "       [0, 4, 3, 1, 2, 3, 4, 3, 1, 2, 1, 2, 0, 2, 0, 3, 2, 0, 3, 1, 4],\n",
              "       [1, 0, 2, 0, 2, 3, 2, 3, 4, 1, 2, 4, 3, 4, 0, 4, 1, 0, 2, 1, 2],\n",
              "       [2, 1, 4, 1, 3, 0, 4, 1, 2, 3, 4, 3, 0, 3, 4, 3, 1, 3, 1, 2, 3],\n",
              "       [3, 4, 3, 0, 4, 1, 0, 4, 1, 4, 1, 3, 1, 3, 4, 3, 1, 2, 3, 4, 0],\n",
              "       [1, 3, 0, 2, 4, 1, 2, 1, 4, 2, 0, 1, 0, 3, 1, 2, 0, 4, 1, 4, 2],\n",
              "       [4, 2, 3, 2, 4, 1, 3, 2, 0, 2, 4, 0, 4, 2, 3, 0, 4, 1, 2, 1, 2]])"
            ]
          },
          "metadata": {},
          "execution_count": 41
        }
      ]
    },
    {
      "cell_type": "code",
      "source": [],
      "metadata": {
        "id": "ZX9JLfyMbg6m"
      },
      "execution_count": null,
      "outputs": []
    },
    {
      "cell_type": "code",
      "source": [],
      "metadata": {
        "id": "ARX3nDWxbg-2"
      },
      "execution_count": null,
      "outputs": []
    },
    {
      "cell_type": "code",
      "source": [],
      "metadata": {
        "id": "_tF0Iy7cbhDa"
      },
      "execution_count": null,
      "outputs": []
    },
    {
      "cell_type": "code",
      "source": [
        "ratings = np.round(np.random.uniform(0.0, 10.0, size=(10,2)))\n",
        "ratings[[1,2,7,9], [0,0,0,0]] = np.nan\n",
        "fin = np.where(np.isnan(ratings[:,0]), ratings[:,1], ratings[:,0])\n",
        "np.concatenate((ratings, fin[:,np.newaxis]), axis=-1)"
      ],
      "metadata": {
        "colab": {
          "base_uri": "https://localhost:8080/"
        },
        "id": "naNKUDaXK9o_",
        "outputId": "3138afd5-4dc5-4cfe-b6cc-ad31e5f1cf40"
      },
      "execution_count": null,
      "outputs": [
        {
          "output_type": "execute_result",
          "data": {
            "text/plain": [
              "array([[ 7.,  1.,  7.],\n",
              "       [nan,  7.,  7.],\n",
              "       [nan,  1.,  1.],\n",
              "       [ 1.,  8.,  1.],\n",
              "       [ 4.,  7.,  4.],\n",
              "       [ 7.,  9.,  7.],\n",
              "       [ 6.,  8.,  6.],\n",
              "       [nan,  9.,  9.],\n",
              "       [ 1.,  7.,  1.],\n",
              "       [nan,  4.,  4.]])"
            ]
          },
          "metadata": {},
          "execution_count": 25
        }
      ]
    },
    {
      "cell_type": "code",
      "source": [],
      "metadata": {
        "colab": {
          "base_uri": "https://localhost:8080/"
        },
        "id": "J2QtdinIK9uO",
        "outputId": "addf9fb3-feb6-4ff5-8801-928afb3b44a0"
      },
      "execution_count": null,
      "outputs": [
        {
          "output_type": "execute_result",
          "data": {
            "text/plain": [
              "(array([[ 5.,  9.],\n",
              "        [nan,  3.],\n",
              "        [nan,  6.],\n",
              "        [10.,  5.],\n",
              "        [ 5.,  8.],\n",
              "        [ 5.,  7.],\n",
              "        [ 9.,  7.],\n",
              "        [nan,  1.],\n",
              "        [ 2.,  0.],\n",
              "        [nan, 10.]]),\n",
              " array([ 5.,  3.,  6., 10.,  5.,  5.,  9.,  1.,  2., 10.]))"
            ]
          },
          "metadata": {},
          "execution_count": 23
        }
      ]
    },
    {
      "cell_type": "code",
      "source": [
        "locs = np.array([\n",
        "    [0,0,0],\n",
        "    [1,1,2],\n",
        "    [0,0,0],\n",
        "    [2,1,3],\n",
        "    [5,5,4],\n",
        "    [5,0,0],\n",
        "    [5,0,0],\n",
        "    [0,0,0],\n",
        "    [2,1,3],\n",
        "    [1,3,1]\n",
        "])\n",
        "\n",
        "generator = np.random.default_rng(1010)\n",
        "weights = generator.normal(size=10)\n",
        "\n",
        "print(weights)"
      ],
      "metadata": {
        "colab": {
          "base_uri": "https://localhost:8080/"
        },
        "id": "Uk3sMjSgK9y6",
        "outputId": "1eeeab02-f33e-452d-efdf-d09b9977fb88"
      },
      "execution_count": null,
      "outputs": [
        {
          "output_type": "stream",
          "name": "stdout",
          "text": [
            "[-1.69870017  0.53799701 -0.22561399 -1.09020894  0.55391264 -1.50115445\n",
            "  0.44545933  1.3448172  -1.12364327  0.21216015]\n"
          ]
        }
      ]
    },
    {
      "cell_type": "code",
      "source": [
        "indices = weights.argsort()[::-1]\n",
        "sorted_locs = locs[indices]\n",
        "a,b = np.unique(sorted_locs, return_index=True)\n",
        "indices[a]"
      ],
      "metadata": {
        "colab": {
          "base_uri": "https://localhost:8080/"
        },
        "id": "ohw7sgf4WV1_",
        "outputId": "9884920e-a8e1-4967-9227-d960cf4ef21a"
      },
      "execution_count": null,
      "outputs": [
        {
          "output_type": "execute_result",
          "data": {
            "text/plain": [
              "array([7, 4, 1, 6, 9, 2])"
            ]
          },
          "metadata": {},
          "execution_count": 31
        }
      ]
    },
    {
      "cell_type": "code",
      "source": [
        "locs.shape"
      ],
      "metadata": {
        "colab": {
          "base_uri": "https://localhost:8080/"
        },
        "id": "OgoGUZ-4WV_G",
        "outputId": "5d26d2d5-dd30-42ac-fcba-c19d6adc624c"
      },
      "execution_count": null,
      "outputs": [
        {
          "output_type": "execute_result",
          "data": {
            "text/plain": [
              "(10, 3)"
            ]
          },
          "metadata": {},
          "execution_count": 22
        }
      ]
    },
    {
      "cell_type": "code",
      "source": [],
      "metadata": {
        "id": "jXM5PuePWWHN"
      },
      "execution_count": null,
      "outputs": []
    },
    {
      "cell_type": "code",
      "source": [],
      "metadata": {
        "id": "-rSCXrpuWWPq"
      },
      "execution_count": null,
      "outputs": []
    },
    {
      "cell_type": "code",
      "source": [
        "locs2 = np.reshape(locs, (10,1,3))\n",
        "sames = (locs == locs2).all(axis=-1)\n",
        "sames.shape"
      ],
      "metadata": {
        "colab": {
          "base_uri": "https://localhost:8080/"
        },
        "id": "NNBnDzDtK93n",
        "outputId": "28de87f5-8f5f-4f73-8bb5-fb82433d34f0"
      },
      "execution_count": null,
      "outputs": [
        {
          "output_type": "execute_result",
          "data": {
            "text/plain": [
              "(10, 10)"
            ]
          },
          "metadata": {},
          "execution_count": 3
        }
      ]
    },
    {
      "cell_type": "code",
      "source": [
        "plt.imshow(sames)"
      ],
      "metadata": {
        "colab": {
          "base_uri": "https://localhost:8080/",
          "height": 448
        },
        "id": "m1IOVDVEK98G",
        "outputId": "4c90b6d7-6cef-4827-adea-6775267bc447"
      },
      "execution_count": null,
      "outputs": [
        {
          "output_type": "execute_result",
          "data": {
            "text/plain": [
              "<matplotlib.image.AxesImage at 0x7e74163f79d0>"
            ]
          },
          "metadata": {},
          "execution_count": 4
        },
        {
          "output_type": "display_data",
          "data": {
            "text/plain": [
              "<Figure size 640x480 with 1 Axes>"
            ],
            "image/png": "[encoded data removed]"
          },
          "metadata": {}
        }
      ]
    },
    {
      "cell_type": "code",
      "source": [
        "sorted_weights = weights.sort()\n",
        "weights"
      ],
      "metadata": {
        "colab": {
          "base_uri": "https://localhost:8080/"
        },
        "id": "v0Im9nKFK-AZ",
        "outputId": "0d2da038-e925-4666-a3fa-2704a4d8e919"
      },
      "execution_count": null,
      "outputs": [
        {
          "output_type": "execute_result",
          "data": {
            "text/plain": [
              "array([-1.69870017, -1.50115445, -1.12364327, -1.09020894, -0.22561399,\n",
              "        0.21216015,  0.44545933,  0.53799701,  0.55391264,  1.3448172 ])"
            ]
          },
          "metadata": {},
          "execution_count": 18
        }
      ]
    },
    {
      "cell_type": "code",
      "source": [
        "#find all locations where 2 vectors are the same"
      ],
      "metadata": {
        "id": "QtTm4y4xK-Eo"
      },
      "execution_count": null,
      "outputs": []
    },
    {
      "cell_type": "code",
      "source": [
        "grid = np.zeros(shape=(10,10), dtype=np.float32)\n",
        "indices = np.random.choice(np.arange(100), size=20, replace=False)\n",
        "rands = np.random.randn((20))\n",
        "grid.ravel()[indices] = rands\n",
        "grid"
      ],
      "metadata": {
        "colab": {
          "base_uri": "https://localhost:8080/"
        },
        "id": "yPg5obMBCNPC",
        "outputId": "339c9b07-c65a-47e2-86f3-060d702eed08"
      },
      "execution_count": null,
      "outputs": [
        {
          "output_type": "execute_result",
          "data": {
            "text/plain": [
              "array([[ 0.        ,  0.        , -0.35497767,  0.        ,  0.        ,\n",
              "         0.        ,  0.        ,  0.        ,  0.        ,  0.659514  ],\n",
              "       [ 0.        ,  0.        ,  0.        ,  0.        ,  0.        ,\n",
              "         0.        ,  0.        ,  0.        ,  0.        ,  0.        ],\n",
              "       [ 0.        ,  0.        , -0.77787733,  0.        ,  0.        ,\n",
              "         0.        ,  0.        ,  0.55439717,  0.        ,  0.        ],\n",
              "       [ 0.        ,  0.        ,  0.        ,  0.        , -1.7717541 ,\n",
              "         0.        ,  0.        ,  0.        ,  0.        ,  0.        ],\n",
              "       [ 0.32471105,  0.        ,  0.        ,  0.        ,  0.        ,\n",
              "         0.        ,  0.        , -0.8593526 , -1.4070187 ,  0.        ],\n",
              "       [ 0.        ,  0.30280423, -1.9962922 ,  0.        ,  0.        ,\n",
              "         0.6684399 ,  0.        ,  0.        ,  0.        ,  0.02439814],\n",
              "       [ 0.        ,  0.        ,  0.        ,  0.        ,  0.3112273 ,\n",
              "         0.30192602,  0.        ,  0.        , -0.99834377,  0.        ],\n",
              "       [ 0.        ,  0.5883673 ,  0.        ,  0.        ,  0.        ,\n",
              "         0.        ,  0.        ,  0.        ,  0.        ,  0.        ],\n",
              "       [ 0.        ,  0.        ,  0.        ,  0.        ,  0.        ,\n",
              "         0.        ,  0.        ,  0.        ,  0.        ,  0.        ],\n",
              "       [ 0.        , -1.1932987 ,  0.        ,  0.        , -0.18733874,\n",
              "         0.9960542 ,  0.        ,  0.        ,  1.0278075 ,  0.        ]],\n",
              "      dtype=float32)"
            ]
          },
          "metadata": {},
          "execution_count": 12
        }
      ]
    },
    {
      "cell_type": "code",
      "source": [
        "foo = np.random.randint(0, 100, size=(10,))\n",
        "bar = np.random.randint(0, 2, size=(10,))\n",
        "print(foo)\n",
        "print(bar)\n",
        "res = np.where(foo%2==0, bar, 2*bar)\n",
        "print(res)"
      ],
      "metadata": {
        "colab": {
          "base_uri": "https://localhost:8080/"
        },
        "id": "oQTKgvIYCNU4",
        "outputId": "398650e4-da15-4bff-97e7-c9a2c231d89a"
      },
      "execution_count": null,
      "outputs": [
        {
          "output_type": "stream",
          "name": "stdout",
          "text": [
            "[77 10 44 63 26 64 46 79 83 42]\n",
            "[0 1 1 1 0 1 1 1 0 1]\n",
            "[0 1 1 2 0 1 1 2 0 1]\n"
          ]
        }
      ]
    },
    {
      "cell_type": "code",
      "source": [
        "np.where(foo%2==0)"
      ],
      "metadata": {
        "colab": {
          "base_uri": "https://localhost:8080/"
        },
        "id": "0ZwY_j5JCNY8",
        "outputId": "cd83771c-78d2-4bc4-996f-f200d6c515aa"
      },
      "execution_count": null,
      "outputs": [
        {
          "output_type": "execute_result",
          "data": {
            "text/plain": [
              "(array([1, 2, 4, 5, 6, 9]),)"
            ]
          },
          "metadata": {},
          "execution_count": 17
        }
      ]
    },
    {
      "cell_type": "code",
      "source": [],
      "metadata": {
        "id": "_uD1yjC3CNcv"
      },
      "execution_count": null,
      "outputs": []
    },
    {
      "cell_type": "code",
      "source": [],
      "metadata": {
        "id": "Mn82znVkCNgb"
      },
      "execution_count": null,
      "outputs": []
    },
    {
      "cell_type": "code",
      "source": [],
      "metadata": {
        "id": "ADUyPJfmCNj8"
      },
      "execution_count": null,
      "outputs": []
    },
    {
      "cell_type": "code",
      "source": [],
      "metadata": {
        "id": "h6b3xk8NCNnm"
      },
      "execution_count": null,
      "outputs": []
    },
    {
      "cell_type": "code",
      "source": [
        "b"
      ],
      "metadata": {
        "id": "_ZrcJpEPCNrp"
      },
      "execution_count": null,
      "outputs": []
    },
    {
      "cell_type": "code",
      "source": [
        "scores = np.random.randint(0,  100, size=10)\n",
        "dist = np.abs(scores[..., np.newaxis] - scores)"
      ],
      "metadata": {
        "id": "g1Z--ANcFW0t"
      },
      "execution_count": null,
      "outputs": []
    },
    {
      "cell_type": "code",
      "source": [
        "plt.imshow(dist)"
      ],
      "metadata": {
        "colab": {
          "base_uri": "https://localhost:8080/",
          "height": 448
        },
        "id": "Dpsr151GFW5z",
        "outputId": "6d97961b-410f-4eac-80d5-f05ee4029cd7"
      },
      "execution_count": null,
      "outputs": [
        {
          "output_type": "execute_result",
          "data": {
            "text/plain": [
              "<matplotlib.image.AxesImage at 0x7c5139559390>"
            ]
          },
          "metadata": {},
          "execution_count": 19
        },
        {
          "output_type": "display_data",
          "data": {
            "text/plain": [
              "<Figure size 640x480 with 1 Axes>"
            ],
            "image/png": "[encoded data removed]"
          },
          "metadata": {}
        }
      ]
    },
    {
      "cell_type": "code",
      "source": [
        "scores = np.random.uniform(30,100, size = 15).round()\n",
        "print(scores)\n",
        "indices = np.where(scores<60)\n",
        "scores[indices[0][:3]] = 0\n",
        "print(scores)"
      ],
      "metadata": {
        "colab": {
          "base_uri": "https://localhost:8080/"
        },
        "id": "-oqE_Io4NVi7",
        "outputId": "0978e10a-5272-4e62-ad53-48d640497e35"
      },
      "execution_count": null,
      "outputs": [
        {
          "output_type": "stream",
          "name": "stdout",
          "text": [
            "[51. 60. 42. 46. 59. 99. 52. 64. 82. 89. 58. 70. 34. 44. 89.]\n",
            "[ 0. 60.  0.  0. 59. 99. 52. 64. 82. 89. 58. 70. 34. 44. 89.]\n"
          ]
        }
      ]
    },
    {
      "cell_type": "code",
      "source": [
        "def dist(locations: np.array)->np.array:\n",
        "  \"\"\"\n",
        "  Returns euclidean distances between points i and j as a 2D array\n",
        "  Args:\n",
        "    locations: Numpy array of locations of points\n",
        "  Returns:\n",
        "    2D Array C, where C[i,j] = distance(locations[i], locations[j])\n",
        "  \"\"\"\n"
      ],
      "metadata": {
        "id": "dIueF_bTFW-s"
      },
      "execution_count": null,
      "outputs": []
    },
    {
      "cell_type": "code",
      "source": [],
      "metadata": {
        "id": "mDbP2DX1FXDr"
      },
      "execution_count": null,
      "outputs": []
    },
    {
      "cell_type": "code",
      "source": [],
      "metadata": {
        "id": "-R0jIywWFXIh"
      },
      "execution_count": null,
      "outputs": []
    },
    {
      "cell_type": "code",
      "source": [],
      "metadata": {
        "id": "8CXKkv8XFXNm"
      },
      "execution_count": null,
      "outputs": []
    },
    {
      "cell_type": "code",
      "source": [
        "A = np.array([3, 11, 4, 5])\n",
        "B = np.array([5, 0, 3])\n",
        "A.shape, B.shape"
      ],
      "metadata": {
        "colab": {
          "base_uri": "https://localhost:8080/"
        },
        "id": "rC5k0v5v1-hT",
        "outputId": "a21ba29e-49f9-42ea-a9cd-b4a212d74a6c"
      },
      "execution_count": null,
      "outputs": [
        {
          "output_type": "execute_result",
          "data": {
            "text/plain": [
              "((4,), (3,))"
            ]
          },
          "metadata": {},
          "execution_count": 2
        }
      ]
    },
    {
      "cell_type": "code",
      "source": [
        "#C[i,j] = A[i] - B[j]"
      ],
      "metadata": {
        "id": "AzjXnXnW1-ay"
      },
      "execution_count": null,
      "outputs": []
    },
    {
      "cell_type": "code",
      "source": [
        "C = A[..., np.newaxis] - B\n",
        "C.shape"
      ],
      "metadata": {
        "colab": {
          "base_uri": "https://localhost:8080/"
        },
        "id": "fEDkay751-XT",
        "outputId": "77530631-b81e-4d20-e483-89a83aafc758"
      },
      "execution_count": null,
      "outputs": [
        {
          "output_type": "execute_result",
          "data": {
            "text/plain": [
              "(4, 3)"
            ]
          },
          "metadata": {},
          "execution_count": 3
        }
      ]
    },
    {
      "cell_type": "code",
      "source": [
        "temp = np.arange(8).reshape((2,4))"
      ],
      "metadata": {
        "id": "JRV2_Sm61-T1"
      },
      "execution_count": null,
      "outputs": []
    },
    {
      "cell_type": "code",
      "source": [
        "arr = np.arange(9).reshape((3,3))\n",
        "arr[arr%3==0] = 0\n",
        "arr"
      ],
      "metadata": {
        "colab": {
          "base_uri": "https://localhost:8080/"
        },
        "id": "vpTHkyJ01-P3",
        "outputId": "5a7a9183-0e17-4054-a34c-0cf2dd0f2aae"
      },
      "execution_count": null,
      "outputs": [
        {
          "output_type": "execute_result",
          "data": {
            "text/plain": [
              "array([[0, 1, 2],\n",
              "       [0, 4, 5],\n",
              "       [0, 7, 8]])"
            ]
          },
          "metadata": {},
          "execution_count": 8
        }
      ]
    },
    {
      "cell_type": "code",
      "source": [
        "arr = np.arange(20).reshape(5,4)\n"
      ],
      "metadata": {
        "colab": {
          "base_uri": "https://localhost:8080/"
        },
        "id": "bDKd44if1-Lr",
        "outputId": "e2c717e4-f5a9-404b-b085-05944f40c75f"
      },
      "execution_count": null,
      "outputs": [
        {
          "output_type": "execute_result",
          "data": {
            "text/plain": [
              "array([[ 0,  1,  2,  3],\n",
              "       [ 4,  5,  6,  7],\n",
              "       [ 8,  9, 10, 11],\n",
              "       [12, 13, 14, 15],\n",
              "       [16, 17, 18, 19]])"
            ]
          },
          "metadata": {},
          "execution_count": 9
        }
      ]
    },
    {
      "cell_type": "code",
      "source": [
        "np.random.shuffle(arr)\n",
        "arr"
      ],
      "metadata": {
        "colab": {
          "base_uri": "https://localhost:8080/"
        },
        "id": "chQvRUeW1-E-",
        "outputId": "f064da74-983a-404f-8672-0fdd895029f1"
      },
      "execution_count": null,
      "outputs": [
        {
          "output_type": "execute_result",
          "data": {
            "text/plain": [
              "array([[16, 17, 18, 19],\n",
              "       [ 8,  9, 10, 11],\n",
              "       [12, 13, 14, 15],\n",
              "       [ 4,  5,  6,  7],\n",
              "       [ 0,  1,  2,  3]])"
            ]
          },
          "metadata": {},
          "execution_count": 12
        }
      ]
    },
    {
      "cell_type": "code",
      "source": [
        "np.random.randint(1,  7, size=3)"
      ],
      "metadata": {
        "colab": {
          "base_uri": "https://localhost:8080/"
        },
        "id": "WL6DbhrDGotc",
        "outputId": "75750b76-8877-4f76-e730-0d163990b128"
      },
      "execution_count": null,
      "outputs": [
        {
          "output_type": "execute_result",
          "data": {
            "text/plain": [
              "array([2, 5, 4])"
            ]
          },
          "metadata": {},
          "execution_count": 14
        }
      ]
    },
    {
      "cell_type": "code",
      "source": [
        "np.random.choice(np.arange(1,7), size=3, replace=False)"
      ],
      "metadata": {
        "colab": {
          "base_uri": "https://localhost:8080/"
        },
        "id": "g5X7TtaSCT7Q",
        "outputId": "588885fb-0bc3-4e77-d31b-c60009938a6b"
      },
      "execution_count": null,
      "outputs": [
        {
          "output_type": "execute_result",
          "data": {
            "text/plain": [
              "array([2, 3, 6])"
            ]
          },
          "metadata": {},
          "execution_count": 16
        }
      ]
    },
    {
      "cell_type": "code",
      "source": [],
      "metadata": {
        "id": "-Kyq_Ow-CUDB"
      },
      "execution_count": null,
      "outputs": []
    },
    {
      "cell_type": "code",
      "source": [],
      "metadata": {
        "id": "GtlnrkX8CUHt"
      },
      "execution_count": null,
      "outputs": []
    },
    {
      "cell_type": "code",
      "source": [],
      "metadata": {
        "id": "-WBcNHH5CUL5"
      },
      "execution_count": null,
      "outputs": []
    },
    {
      "cell_type": "code",
      "source": [],
      "metadata": {
        "id": "Y4HA3hUzCUP1"
      },
      "execution_count": null,
      "outputs": []
    },
    {
      "cell_type": "code",
      "source": [],
      "metadata": {
        "id": "HhCe4gj7CUTt"
      },
      "execution_count": null,
      "outputs": []
    },
    {
      "cell_type": "code",
      "source": [
        "arr.dtype"
      ],
      "metadata": {
        "colab": {
          "base_uri": "https://localhost:8080/"
        },
        "id": "4kbogH-CGvKo",
        "outputId": "a38d1bab-1b90-4e87-8180-aa1ccbf1e19c"
      },
      "execution_count": null,
      "outputs": [
        {
          "output_type": "execute_result",
          "data": {
            "text/plain": [
              "dtype('int64')"
            ]
          },
          "metadata": {},
          "execution_count": 4
        }
      ]
    },
    {
      "cell_type": "code",
      "source": [
        "s = \"I am a banana\"\n",
        "l = np.array(s.split(\" \"))\n",
        "l.dtype, l.itemsize"
      ],
      "metadata": {
        "colab": {
          "base_uri": "https://localhost:8080/"
        },
        "id": "H_C169zgG3VV",
        "outputId": "1135e377-5e24-4d05-cdec-896db2c7f1ec"
      },
      "execution_count": null,
      "outputs": [
        {
          "output_type": "execute_result",
          "data": {
            "text/plain": [
              "(dtype('<U6'), 24)"
            ]
          },
          "metadata": {},
          "execution_count": 8
        }
      ]
    },
    {
      "cell_type": "code",
      "source": [
        "np.zeros(shape=(3,5), dtype=np.int32)"
      ],
      "metadata": {
        "colab": {
          "base_uri": "https://localhost:8080/"
        },
        "id": "lq28v5oNHZUg",
        "outputId": "7c850260-f34b-4348-8404-637c60bd49fe"
      },
      "execution_count": null,
      "outputs": [
        {
          "output_type": "execute_result",
          "data": {
            "text/plain": [
              "array([[0, 0, 0, 0, 0],\n",
              "       [0, 0, 0, 0, 0],\n",
              "       [0, 0, 0, 0, 0]], dtype=int32)"
            ]
          },
          "metadata": {},
          "execution_count": 10
        }
      ]
    },
    {
      "cell_type": "code",
      "source": [
        "np.random.randint( 0, 7, size=(3,3))"
      ],
      "metadata": {
        "colab": {
          "base_uri": "https://localhost:8080/"
        },
        "id": "Kp-RwDemITx1",
        "outputId": "7e25ebed-f9f2-48d5-a173-7adab1c3cf63"
      },
      "execution_count": null,
      "outputs": [
        {
          "output_type": "execute_result",
          "data": {
            "text/plain": [
              "array([[2, 0, 3],\n",
              "       [0, 3, 3],\n",
              "       [2, 5, 1]])"
            ]
          },
          "metadata": {},
          "execution_count": 12
        }
      ]
    },
    {
      "cell_type": "code",
      "source": [
        "rand = np.random.RandomState(42)\n",
        "\n",
        "x = rand.randint(100, size=10)\n",
        "print(x)"
      ],
      "metadata": {
        "colab": {
          "base_uri": "https://localhost:8080/"
        },
        "id": "utulXv-iJRES",
        "outputId": "9f3b2299-cb23-4d15-9ca2-dd4288e9b7c7"
      },
      "execution_count": null,
      "outputs": [
        {
          "output_type": "stream",
          "name": "stdout",
          "text": [
            "[51 92 14 71 60 20 82 86 74 74]\n"
          ]
        }
      ]
    },
    {
      "cell_type": "code",
      "source": [
        "y = x[[3, 7, 2]]\n",
        "y[0] = 1000\n",
        "print(x)"
      ],
      "metadata": {
        "colab": {
          "base_uri": "https://localhost:8080/"
        },
        "id": "juIFVERFNv8S",
        "outputId": "cc1d057e-2307-4025-c919-40eb4b5a0523"
      },
      "execution_count": null,
      "outputs": [
        {
          "output_type": "stream",
          "name": "stdout",
          "text": [
            "[51 92 14 71 60 20 82 86 74 74]\n"
          ]
        }
      ]
    },
    {
      "cell_type": "code",
      "source": [
        "index = np.random.randint(0, 10, size=(3,2))"
      ],
      "metadata": {
        "id": "ospqnbF1N0tY"
      },
      "execution_count": null,
      "outputs": []
    },
    {
      "cell_type": "code",
      "source": [
        "x[index]"
      ],
      "metadata": {
        "colab": {
          "base_uri": "https://localhost:8080/"
        },
        "id": "ttXZEAqRVgwO",
        "outputId": "fcd4e08d-c349-4782-9e36-edec93d9df1c"
      },
      "execution_count": null,
      "outputs": [
        {
          "output_type": "execute_result",
          "data": {
            "text/plain": [
              "array([[51, 14],\n",
              "       [82, 51],\n",
              "       [51, 14]])"
            ]
          },
          "metadata": {},
          "execution_count": 18
        }
      ]
    },
    {
      "cell_type": "code",
      "source": [
        "daily_weight = 185 - np.arange(35)/5\n",
        "daily_weight"
      ],
      "metadata": {
        "colab": {
          "base_uri": "https://localhost:8080/"
        },
        "id": "QUCPjD_fVj7u",
        "outputId": "b801b7e9-101e-43a5-c0f0-1768c3084579"
      },
      "execution_count": null,
      "outputs": [
        {
          "output_type": "execute_result",
          "data": {
            "text/plain": [
              "array([185. , 184.8, 184.6, 184.4, 184.2, 184. , 183.8, 183.6, 183.4,\n",
              "       183.2, 183. , 182.8, 182.6, 182.4, 182.2, 182. , 181.8, 181.6,\n",
              "       181.4, 181.2, 181. , 180.8, 180.6, 180.4, 180.2, 180. , 179.8,\n",
              "       179.6, 179.4, 179.2, 179. , 178.8, 178.6, 178.4, 178.2])"
            ]
          },
          "metadata": {},
          "execution_count": 19
        }
      ]
    },
    {
      "cell_type": "code",
      "source": [
        "np.reshape(daily_weight, (5, 7))[:,-2:].mean()"
      ],
      "metadata": {
        "colab": {
          "base_uri": "https://localhost:8080/"
        },
        "id": "jTaCdYGPZ3vZ",
        "outputId": "a7876673-c326-4865-c92a-ff495b5bdabf"
      },
      "execution_count": null,
      "outputs": [
        {
          "output_type": "execute_result",
          "data": {
            "text/plain": [
              "181.1"
            ]
          },
          "metadata": {},
          "execution_count": 22
        }
      ]
    },
    {
      "cell_type": "code",
      "source": [
        "np.reshape(daily_weight, (5, 7))[:,-2:].mean(axis=-1)"
      ],
      "metadata": {
        "colab": {
          "base_uri": "https://localhost:8080/"
        },
        "id": "BjWAbxZsaoDA",
        "outputId": "a89bc916-2194-49af-abb8-4d70103f8ebd"
      },
      "execution_count": null,
      "outputs": [
        {
          "output_type": "execute_result",
          "data": {
            "text/plain": [
              "array([183.9, 182.5, 181.1, 179.7, 178.3])"
            ]
          },
          "metadata": {},
          "execution_count": 25
        }
      ]
    },
    {
      "cell_type": "code",
      "source": [
        "gold = np.random.randint(0, 10, size=(7,7))\n",
        "gold"
      ],
      "metadata": {
        "colab": {
          "base_uri": "https://localhost:8080/"
        },
        "id": "f5E4opaRa3z0",
        "outputId": "da1f21d7-c0b0-49b6-cf3f-8fe5fffd7e5c"
      },
      "execution_count": null,
      "outputs": [
        {
          "output_type": "execute_result",
          "data": {
            "text/plain": [
              "array([[6, 5, 8, 3, 5, 3, 3],\n",
              "       [7, 0, 5, 7, 7, 2, 0],\n",
              "       [9, 4, 6, 1, 5, 5, 6],\n",
              "       [1, 0, 8, 8, 6, 3, 9],\n",
              "       [0, 6, 5, 0, 8, 0, 6],\n",
              "       [9, 4, 9, 0, 3, 1, 3],\n",
              "       [6, 4, 8, 7, 5, 9, 1]])"
            ]
          },
          "metadata": {},
          "execution_count": 26
        }
      ]
    },
    {
      "cell_type": "code",
      "source": [
        "idx1 = np.random.randint(0,7, size=(5))\n",
        "idx2 = np.random.randint(0,7, size=(5))"
      ],
      "metadata": {
        "id": "cGVlg-svbi4C"
      },
      "execution_count": null,
      "outputs": []
    },
    {
      "cell_type": "code",
      "source": [
        "gold[idx1, idx2]"
      ],
      "metadata": {
        "colab": {
          "base_uri": "https://localhost:8080/"
        },
        "id": "HSip04VqbxjU",
        "outputId": "df9ae9f8-f385-43b8-8126-5e45d610d19e"
      },
      "execution_count": null,
      "outputs": [
        {
          "output_type": "execute_result",
          "data": {
            "text/plain": [
              "array([1, 0, 3, 6, 0])"
            ]
          },
          "metadata": {},
          "execution_count": 36
        }
      ]
    },
    {
      "cell_type": "code",
      "source": [
        "bills1 = np.arange(17, 29, 4)\n",
        "bills2 = np.arange(32, 37, 2)\n",
        "dist1 = np.abs(bills1 - 30)\n",
        "dist2 = bills2 - 30\n",
        "dist1[-1]+dist2[0]"
      ],
      "metadata": {
        "colab": {
          "base_uri": "https://localhost:8080/"
        },
        "id": "b9RO6R7Cb5Yw",
        "outputId": "babbb7f5-a902-4d99-f4ee-4e9d60782a8c"
      },
      "execution_count": null,
      "outputs": [
        {
          "output_type": "execute_result",
          "data": {
            "text/plain": [
              "7"
            ]
          },
          "metadata": {},
          "execution_count": 42
        }
      ]
    },
    {
      "cell_type": "code",
      "source": [],
      "metadata": {
        "id": "onRNFS48dHxZ"
      },
      "execution_count": null,
      "outputs": []
    }
  ]
}